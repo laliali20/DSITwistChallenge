{
  "nbformat": 4,
  "nbformat_minor": 0,
  "metadata": {
    "colab": {
      "name": "DSI_TwistChallenge.ipynb",
      "provenance": [],
      "mount_file_id": "1Ctn16kjVurhBldYqGwwD3t7gtONVO_50",
      "authorship_tag": "ABX9TyOLKXM8//B5OGQdm/zr+bDH",
      "include_colab_link": true
    },
    "kernelspec": {
      "name": "python3",
      "display_name": "Python 3"
    },
    "language_info": {
      "name": "python"
    },
    "accelerator": "GPU"
  },
  "cells": [
    {
      "cell_type": "markdown",
      "metadata": {
        "id": "view-in-github",
        "colab_type": "text"
      },
      "source": [
        "<a href=\"https://colab.research.google.com/github/laliali20/DSITwistChallenge/blob/main/DSI_TwistChallenge.ipynb\" target=\"_parent\"><img src=\"https://colab.research.google.com/assets/colab-badge.svg\" alt=\"Open In Colab\"/></a>"
      ]
    },
    {
      "cell_type": "markdown",
      "source": [
        "# Scrapping"
      ],
      "metadata": {
        "id": "TTbhDQHCYG3s"
      }
    },
    {
      "cell_type": "code",
      "source": [
        "pip install BeautifulSoup4"
      ],
      "metadata": {
        "colab": {
          "base_uri": "https://localhost:8080/"
        },
        "id": "5ScuJPXQYNBt",
        "outputId": "1ad999a6-da37-4fab-a156-c0c3e37d570b"
      },
      "execution_count": null,
      "outputs": [
        {
          "output_type": "stream",
          "name": "stdout",
          "text": [
            "Requirement already satisfied: BeautifulSoup4 in /usr/local/lib/python3.7/dist-packages (4.6.3)\n"
          ]
        }
      ]
    },
    {
      "cell_type": "code",
      "source": [
        "!pip install selenium"
      ],
      "metadata": {
        "colab": {
          "base_uri": "https://localhost:8080/"
        },
        "id": "izddp5va64m2",
        "outputId": "88e017f3-755a-43b0-ae44-145fcdeecc1e"
      },
      "execution_count": null,
      "outputs": [
        {
          "output_type": "stream",
          "name": "stdout",
          "text": [
            "Collecting selenium\n",
            "  Downloading selenium-4.1.0-py3-none-any.whl (958 kB)\n",
            "\u001b[?25l\r\u001b[K     |▍                               | 10 kB 18.8 MB/s eta 0:00:01\r\u001b[K     |▊                               | 20 kB 23.8 MB/s eta 0:00:01\r\u001b[K     |█                               | 30 kB 28.6 MB/s eta 0:00:01\r\u001b[K     |█▍                              | 40 kB 32.3 MB/s eta 0:00:01\r\u001b[K     |█▊                              | 51 kB 34.6 MB/s eta 0:00:01\r\u001b[K     |██                              | 61 kB 36.4 MB/s eta 0:00:01\r\u001b[K     |██▍                             | 71 kB 28.4 MB/s eta 0:00:01\r\u001b[K     |██▊                             | 81 kB 30.0 MB/s eta 0:00:01\r\u001b[K     |███                             | 92 kB 29.1 MB/s eta 0:00:01\r\u001b[K     |███▍                            | 102 kB 30.7 MB/s eta 0:00:01\r\u001b[K     |███▊                            | 112 kB 30.7 MB/s eta 0:00:01\r\u001b[K     |████                            | 122 kB 30.7 MB/s eta 0:00:01\r\u001b[K     |████▍                           | 133 kB 30.7 MB/s eta 0:00:01\r\u001b[K     |████▉                           | 143 kB 30.7 MB/s eta 0:00:01\r\u001b[K     |█████▏                          | 153 kB 30.7 MB/s eta 0:00:01\r\u001b[K     |█████▌                          | 163 kB 30.7 MB/s eta 0:00:01\r\u001b[K     |█████▉                          | 174 kB 30.7 MB/s eta 0:00:01\r\u001b[K     |██████▏                         | 184 kB 30.7 MB/s eta 0:00:01\r\u001b[K     |██████▌                         | 194 kB 30.7 MB/s eta 0:00:01\r\u001b[K     |██████▉                         | 204 kB 30.7 MB/s eta 0:00:01\r\u001b[K     |███████▏                        | 215 kB 30.7 MB/s eta 0:00:01\r\u001b[K     |███████▌                        | 225 kB 30.7 MB/s eta 0:00:01\r\u001b[K     |███████▉                        | 235 kB 30.7 MB/s eta 0:00:01\r\u001b[K     |████████▏                       | 245 kB 30.7 MB/s eta 0:00:01\r\u001b[K     |████████▌                       | 256 kB 30.7 MB/s eta 0:00:01\r\u001b[K     |████████▉                       | 266 kB 30.7 MB/s eta 0:00:01\r\u001b[K     |█████████▎                      | 276 kB 30.7 MB/s eta 0:00:01\r\u001b[K     |█████████▋                      | 286 kB 30.7 MB/s eta 0:00:01\r\u001b[K     |██████████                      | 296 kB 30.7 MB/s eta 0:00:01\r\u001b[K     |██████████▎                     | 307 kB 30.7 MB/s eta 0:00:01\r\u001b[K     |██████████▋                     | 317 kB 30.7 MB/s eta 0:00:01\r\u001b[K     |███████████                     | 327 kB 30.7 MB/s eta 0:00:01\r\u001b[K     |███████████▎                    | 337 kB 30.7 MB/s eta 0:00:01\r\u001b[K     |███████████▋                    | 348 kB 30.7 MB/s eta 0:00:01\r\u001b[K     |████████████                    | 358 kB 30.7 MB/s eta 0:00:01\r\u001b[K     |████████████▎                   | 368 kB 30.7 MB/s eta 0:00:01\r\u001b[K     |████████████▋                   | 378 kB 30.7 MB/s eta 0:00:01\r\u001b[K     |█████████████                   | 389 kB 30.7 MB/s eta 0:00:01\r\u001b[K     |█████████████▎                  | 399 kB 30.7 MB/s eta 0:00:01\r\u001b[K     |█████████████▊                  | 409 kB 30.7 MB/s eta 0:00:01\r\u001b[K     |██████████████                  | 419 kB 30.7 MB/s eta 0:00:01\r\u001b[K     |██████████████▍                 | 430 kB 30.7 MB/s eta 0:00:01\r\u001b[K     |██████████████▊                 | 440 kB 30.7 MB/s eta 0:00:01\r\u001b[K     |███████████████                 | 450 kB 30.7 MB/s eta 0:00:01\r\u001b[K     |███████████████▍                | 460 kB 30.7 MB/s eta 0:00:01\r\u001b[K     |███████████████▊                | 471 kB 30.7 MB/s eta 0:00:01\r\u001b[K     |████████████████                | 481 kB 30.7 MB/s eta 0:00:01\r\u001b[K     |████████████████▍               | 491 kB 30.7 MB/s eta 0:00:01\r\u001b[K     |████████████████▊               | 501 kB 30.7 MB/s eta 0:00:01\r\u001b[K     |█████████████████               | 512 kB 30.7 MB/s eta 0:00:01\r\u001b[K     |█████████████████▍              | 522 kB 30.7 MB/s eta 0:00:01\r\u001b[K     |█████████████████▊              | 532 kB 30.7 MB/s eta 0:00:01\r\u001b[K     |██████████████████▏             | 542 kB 30.7 MB/s eta 0:00:01\r\u001b[K     |██████████████████▌             | 552 kB 30.7 MB/s eta 0:00:01\r\u001b[K     |██████████████████▉             | 563 kB 30.7 MB/s eta 0:00:01\r\u001b[K     |███████████████████▏            | 573 kB 30.7 MB/s eta 0:00:01\r\u001b[K     |███████████████████▌            | 583 kB 30.7 MB/s eta 0:00:01\r\u001b[K     |███████████████████▉            | 593 kB 30.7 MB/s eta 0:00:01\r\u001b[K     |████████████████████▏           | 604 kB 30.7 MB/s eta 0:00:01\r\u001b[K     |████████████████████▌           | 614 kB 30.7 MB/s eta 0:00:01\r\u001b[K     |████████████████████▉           | 624 kB 30.7 MB/s eta 0:00:01\r\u001b[K     |█████████████████████▏          | 634 kB 30.7 MB/s eta 0:00:01\r\u001b[K     |█████████████████████▌          | 645 kB 30.7 MB/s eta 0:00:01\r\u001b[K     |█████████████████████▉          | 655 kB 30.7 MB/s eta 0:00:01\r\u001b[K     |██████████████████████▏         | 665 kB 30.7 MB/s eta 0:00:01\r\u001b[K     |██████████████████████▋         | 675 kB 30.7 MB/s eta 0:00:01\r\u001b[K     |███████████████████████         | 686 kB 30.7 MB/s eta 0:00:01\r\u001b[K     |███████████████████████▎        | 696 kB 30.7 MB/s eta 0:00:01\r\u001b[K     |███████████████████████▋        | 706 kB 30.7 MB/s eta 0:00:01\r\u001b[K     |████████████████████████        | 716 kB 30.7 MB/s eta 0:00:01\r\u001b[K     |████████████████████████▎       | 727 kB 30.7 MB/s eta 0:00:01\r\u001b[K     |████████████████████████▋       | 737 kB 30.7 MB/s eta 0:00:01\r\u001b[K     |█████████████████████████       | 747 kB 30.7 MB/s eta 0:00:01\r\u001b[K     |█████████████████████████▎      | 757 kB 30.7 MB/s eta 0:00:01\r\u001b[K     |█████████████████████████▋      | 768 kB 30.7 MB/s eta 0:00:01\r\u001b[K     |██████████████████████████      | 778 kB 30.7 MB/s eta 0:00:01\r\u001b[K     |██████████████████████████▎     | 788 kB 30.7 MB/s eta 0:00:01\r\u001b[K     |██████████████████████████▋     | 798 kB 30.7 MB/s eta 0:00:01\r\u001b[K     |███████████████████████████     | 808 kB 30.7 MB/s eta 0:00:01\r\u001b[K     |███████████████████████████▍    | 819 kB 30.7 MB/s eta 0:00:01\r\u001b[K     |███████████████████████████▊    | 829 kB 30.7 MB/s eta 0:00:01\r\u001b[K     |████████████████████████████    | 839 kB 30.7 MB/s eta 0:00:01\r\u001b[K     |████████████████████████████▍   | 849 kB 30.7 MB/s eta 0:00:01\r\u001b[K     |████████████████████████████▊   | 860 kB 30.7 MB/s eta 0:00:01\r\u001b[K     |█████████████████████████████   | 870 kB 30.7 MB/s eta 0:00:01\r\u001b[K     |█████████████████████████████▍  | 880 kB 30.7 MB/s eta 0:00:01\r\u001b[K     |█████████████████████████████▊  | 890 kB 30.7 MB/s eta 0:00:01\r\u001b[K     |██████████████████████████████  | 901 kB 30.7 MB/s eta 0:00:01\r\u001b[K     |██████████████████████████████▍ | 911 kB 30.7 MB/s eta 0:00:01\r\u001b[K     |██████████████████████████████▊ | 921 kB 30.7 MB/s eta 0:00:01\r\u001b[K     |███████████████████████████████ | 931 kB 30.7 MB/s eta 0:00:01\r\u001b[K     |███████████████████████████████▍| 942 kB 30.7 MB/s eta 0:00:01\r\u001b[K     |███████████████████████████████▉| 952 kB 30.7 MB/s eta 0:00:01\r\u001b[K     |████████████████████████████████| 958 kB 30.7 MB/s \n",
            "\u001b[?25hCollecting trio-websocket~=0.9\n",
            "  Downloading trio_websocket-0.9.2-py3-none-any.whl (16 kB)\n",
            "Collecting trio~=0.17\n",
            "  Downloading trio-0.19.0-py3-none-any.whl (356 kB)\n",
            "\u001b[K     |████████████████████████████████| 356 kB 63.4 MB/s \n",
            "\u001b[?25hCollecting urllib3[secure]~=1.26\n",
            "  Downloading urllib3-1.26.8-py2.py3-none-any.whl (138 kB)\n",
            "\u001b[K     |████████████████████████████████| 138 kB 54.6 MB/s \n",
            "\u001b[?25hRequirement already satisfied: sortedcontainers in /usr/local/lib/python3.7/dist-packages (from trio~=0.17->selenium) (2.4.0)\n",
            "Collecting sniffio\n",
            "  Downloading sniffio-1.2.0-py3-none-any.whl (10 kB)\n",
            "Requirement already satisfied: idna in /usr/local/lib/python3.7/dist-packages (from trio~=0.17->selenium) (2.10)\n",
            "Requirement already satisfied: attrs>=19.2.0 in /usr/local/lib/python3.7/dist-packages (from trio~=0.17->selenium) (21.4.0)\n",
            "Collecting async-generator>=1.9\n",
            "  Downloading async_generator-1.10-py3-none-any.whl (18 kB)\n",
            "Collecting outcome\n",
            "  Downloading outcome-1.1.0-py2.py3-none-any.whl (9.7 kB)\n",
            "Collecting wsproto>=0.14\n",
            "  Downloading wsproto-1.0.0-py3-none-any.whl (24 kB)\n",
            "Requirement already satisfied: certifi in /usr/local/lib/python3.7/dist-packages (from urllib3[secure]~=1.26->selenium) (2021.10.8)\n",
            "Collecting pyOpenSSL>=0.14\n",
            "  Downloading pyOpenSSL-22.0.0-py2.py3-none-any.whl (55 kB)\n",
            "\u001b[K     |████████████████████████████████| 55 kB 3.7 MB/s \n",
            "\u001b[?25hCollecting cryptography>=1.3.4\n",
            "  Downloading cryptography-36.0.1-cp36-abi3-manylinux_2_24_x86_64.whl (3.6 MB)\n",
            "\u001b[K     |████████████████████████████████| 3.6 MB 30.6 MB/s \n",
            "\u001b[?25hRequirement already satisfied: cffi>=1.12 in /usr/local/lib/python3.7/dist-packages (from cryptography>=1.3.4->urllib3[secure]~=1.26->selenium) (1.15.0)\n",
            "Requirement already satisfied: pycparser in /usr/local/lib/python3.7/dist-packages (from cffi>=1.12->cryptography>=1.3.4->urllib3[secure]~=1.26->selenium) (2.21)\n",
            "Collecting h11<1,>=0.9.0\n",
            "  Downloading h11-0.13.0-py3-none-any.whl (58 kB)\n",
            "\u001b[K     |████████████████████████████████| 58 kB 6.1 MB/s \n",
            "\u001b[?25hRequirement already satisfied: typing-extensions in /usr/local/lib/python3.7/dist-packages (from h11<1,>=0.9.0->wsproto>=0.14->trio-websocket~=0.9->selenium) (3.10.0.2)\n",
            "Installing collected packages: sniffio, outcome, h11, cryptography, async-generator, wsproto, urllib3, trio, pyOpenSSL, trio-websocket, selenium\n",
            "  Attempting uninstall: urllib3\n",
            "    Found existing installation: urllib3 1.24.3\n",
            "    Uninstalling urllib3-1.24.3:\n",
            "      Successfully uninstalled urllib3-1.24.3\n",
            "\u001b[31mERROR: pip's dependency resolver does not currently take into account all the packages that are installed. This behaviour is the source of the following dependency conflicts.\n",
            "requests 2.23.0 requires urllib3!=1.25.0,!=1.25.1,<1.26,>=1.21.1, but you have urllib3 1.26.8 which is incompatible.\n",
            "datascience 0.10.6 requires folium==0.2.1, but you have folium 0.8.3 which is incompatible.\u001b[0m\n",
            "Successfully installed async-generator-1.10 cryptography-36.0.1 h11-0.13.0 outcome-1.1.0 pyOpenSSL-22.0.0 selenium-4.1.0 sniffio-1.2.0 trio-0.19.0 trio-websocket-0.9.2 urllib3-1.26.8 wsproto-1.0.0\n"
          ]
        }
      ]
    },
    {
      "cell_type": "code",
      "source": [
        "from bs4 import BeautifulSoup"
      ],
      "metadata": {
        "id": "npzts-CYYe60"
      },
      "execution_count": null,
      "outputs": []
    },
    {
      "cell_type": "code",
      "source": [
        "import requests"
      ],
      "metadata": {
        "colab": {
          "base_uri": "https://localhost:8080/"
        },
        "id": "e4ue1D6dZ8KF",
        "outputId": "1af0c532-2529-43cb-8cf5-1cdba369c282"
      },
      "execution_count": null,
      "outputs": [
        {
          "output_type": "stream",
          "name": "stderr",
          "text": [
            "/usr/local/lib/python3.7/dist-packages/requests/__init__.py:91: RequestsDependencyWarning: urllib3 (1.26.8) or chardet (3.0.4) doesn't match a supported version!\n",
            "  RequestsDependencyWarning)\n"
          ]
        }
      ]
    },
    {
      "cell_type": "code",
      "execution_count": null,
      "metadata": {
        "id": "FOnHaQnOi4Aa"
      },
      "outputs": [],
      "source": [
        "import requests\n",
        "from bs4 import BeautifulSoup\n",
        "import os\n",
        "\n",
        "#url = 'https://www.airbnb.co.uk/s/Ljubljana--Slovenia/homes?tab_id=home_tab&refinement_paths%5B%5D=%2Fhomes&query=Ljubljana%2C%20Slovenia&place_id=ChIJ0YaYlvUxZUcRIOw_ghz4AAQ&checkin=2020-11-01&checkout=2020-11-08&source=structured_search_input_header&search_type=autocomplete_click'\n",
        "\n",
        "def imagedown(url, folder):\n",
        "    try:\n",
        "        os.mkdir(os.path.join(os.getcwd(), folder))\n",
        "    except Exception as e:\n",
        "        print('Failed')\n",
        "    os.chdir(os.path.join(os.getcwd(), folder))\n",
        "    r = requests.get(url)\n",
        "    soup = BeautifulSoup(r.text, 'html.parser')\n",
        "    images = soup.find_all('a', class_='link--h3bPW')\n",
        "    for image in images:\n",
        "        name = image['alt']\n",
        "        link = image['src']\n",
        "        with open(name.replace(' ', '-').replace('/', '') + '.jpg', 'wb') as f:\n",
        "            im = requests.get(link)\n",
        "            f.write(im.content)\n",
        "            print('Writing: ', name)\n"
      ]
    },
    {
      "cell_type": "code",
      "source": [
        "import requests\n",
        "from bs4 import BeautifulSoup\n",
        "import os\n",
        "import selenium"
      ],
      "metadata": {
        "id": "9Gbpy14pwMZD"
      },
      "execution_count": null,
      "outputs": []
    },
    {
      "cell_type": "code",
      "source": [
        "url = 'https://pixabay.com/images/search/cockroach/'\n",
        "\n",
        "path = '/content/chromedriver.exe'\n",
        "# imagedown(url, 'images')\n",
        "wd  = webdriver.Chrome(path)\n",
        "r = requests.get(url)\n",
        "soup = BeautifulSoup(r.text, 'html.parser')\n",
        "images = soup.find_all('div', class_ = 'container--HcTw2')\n",
        "images"
      ],
      "metadata": {
        "colab": {
          "base_uri": "https://localhost:8080/"
        },
        "id": "aw6yhYZFxiyZ",
        "outputId": "5d54d673-e739-492b-98a5-dd1a4328aae1"
      },
      "execution_count": null,
      "outputs": [
        {
          "output_type": "execute_result",
          "data": {
            "text/plain": [
              "[]"
            ]
          },
          "metadata": {},
          "execution_count": 12
        }
      ]
    },
    {
      "cell_type": "code",
      "source": [
        "imagedown(url, 'folder')"
      ],
      "metadata": {
        "id": "SEZ5HwFF7XaK"
      },
      "execution_count": null,
      "outputs": []
    },
    {
      "cell_type": "code",
      "source": [
        "!pip install kora -q"
      ],
      "metadata": {
        "colab": {
          "base_uri": "https://localhost:8080/"
        },
        "id": "5euHrDB_CTh8",
        "outputId": "3b3d3a4c-bbe3-4690-89ae-267b7f2222ad"
      },
      "execution_count": null,
      "outputs": [
        {
          "output_type": "stream",
          "name": "stdout",
          "text": [
            "\u001b[K     |████████████████████████████████| 57 kB 4.0 MB/s \n",
            "\u001b[K     |████████████████████████████████| 56 kB 4.2 MB/s \n",
            "\u001b[?25h"
          ]
        }
      ]
    },
    {
      "cell_type": "code",
      "source": [
        "from selenium import webdriver\n",
        "from selenium.webdriver.common.by import By\n",
        "import requests\n",
        "import io\n",
        "from PIL import Image\n",
        "import time\n",
        "from kora.selenium import wd\n",
        "\n",
        "# PATH = \"/content/chromedriver.exe\"\n",
        "\n",
        "# wd = webdriver.Chrome()\n",
        "\n",
        "def get_images_from_google(wd, delay, max_images):\n",
        "\tdef scroll_down(wd):\n",
        "\t\twd.execute_script(\"window.scrollTo(0, document.body.scrollHeight);\")\n",
        "\t\ttime.sleep(delay)\n",
        "\n",
        "\turl = \"https://www.google.com/search?q=cockroach+eggs+images+at+home&source=lnms&tbm=isch&sa=X&ved=2ahUKEwipkLPum_b1AhWvdt8KHbDwDusQ_AUoAXoECAEQAw&biw=1366&bih=663&dpr=1\"\n",
        "\twd.get(url)\n",
        "\n",
        "\timage_urls = set()\n",
        "\tskips = 0\n",
        "\n",
        "\twhile len(image_urls) + skips < max_images:\n",
        "\t\tscroll_down(wd)\n",
        "\n",
        "\t\tthumbnails = wd.find_elements(By.CLASS_NAME, \"Q4LuWd\")\n",
        "\n",
        "\t\tfor img in thumbnails[len(image_urls) + skips:max_images]:\n",
        "\t\t\ttry:\n",
        "\t\t\t\timg.click()\n",
        "\t\t\t\ttime.sleep(delay)\n",
        "\t\t\texcept:\n",
        "\t\t\t\tcontinue\n",
        "\n",
        "\t\t\timages = wd.find_elements(By.CLASS_NAME, \"n3VNCb\")\n",
        "\t\t\tfor image in images:\n",
        "\t\t\t\tif image.get_attribute('src') in image_urls:\n",
        "\t\t\t\t\tmax_images += 1\n",
        "\t\t\t\t\tskips += 1\n",
        "\t\t\t\t\tbreak\n",
        "\n",
        "\t\t\t\tif image.get_attribute('src') and 'http' in image.get_attribute('src'):\n",
        "\t\t\t\t\timage_urls.add(image.get_attribute('src'))\n",
        "\t\t\t\t\tprint(f\"Found {len(image_urls)}\")\n",
        "\n",
        "\treturn image_urls\n",
        "\n",
        "\n",
        "def download_image(download_path, url, file_name):\n",
        "\ttry:\n",
        "\t\timage_content = requests.get(url).content\n",
        "\t\timage_file = io.BytesIO(image_content)\n",
        "\t\timage = Image.open(image_file)\n",
        "\t\tfile_path = download_path + file_name\n",
        "\n",
        "\t\twith open(file_path, \"wb\") as f:\n",
        "\t\t\timage.save(f, \"JPEG\")\n",
        "\n",
        "\t\tprint(\"Success\")\n",
        "\texcept Exception as e:\n",
        "\t\tprint('FAILED -', e)\n",
        "\n",
        "urls = get_images_from_google(wd, 1, 31)\n",
        "\n",
        "for i, url in enumerate(urls):\n",
        "\tdownload_image(\"/content/Images/\", url, str(i) +  \"egg\" + \".jpg\")\n",
        "\n",
        "wd.quit()"
      ],
      "metadata": {
        "colab": {
          "base_uri": "https://localhost:8080/"
        },
        "id": "rnDb0SGYAZg5",
        "outputId": "6982a936-185c-4111-a566-4582c8ef9c4f"
      },
      "execution_count": null,
      "outputs": [
        {
          "output_type": "stream",
          "name": "stdout",
          "text": [
            "Found 1\n",
            "Found 2\n",
            "Found 3\n",
            "Found 4\n",
            "Found 5\n",
            "Found 6\n",
            "Found 7\n",
            "Found 8\n",
            "Found 9\n",
            "Found 10\n",
            "Found 11\n",
            "Found 12\n",
            "Found 13\n",
            "Found 14\n",
            "Found 15\n",
            "Found 16\n",
            "Found 17\n",
            "Found 18\n",
            "Found 19\n",
            "Found 20\n",
            "Found 21\n",
            "Found 22\n",
            "Found 23\n",
            "Found 24\n",
            "Found 25\n",
            "Found 26\n",
            "Found 27\n",
            "Found 28\n",
            "Found 29\n",
            "Found 30\n",
            "Found 31\n",
            "Found 32\n",
            "FAILED - cannot identify image file <_io.BytesIO object at 0x7f2d75b02170>\n",
            "Success\n",
            "Success\n",
            "Success\n",
            "Success\n",
            "Success\n",
            "FAILED - cannot identify image file <_io.BytesIO object at 0x7f2d7547ee90>\n",
            "Success\n",
            "FAILED - cannot write mode P as JPEG\n",
            "Success\n",
            "Success\n",
            "Success\n",
            "Success\n",
            "Success\n",
            "Success\n",
            "Success\n",
            "FAILED - cannot identify image file <_io.BytesIO object at 0x7f2d7549b710>\n",
            "Success\n",
            "Success\n",
            "Success\n",
            "Success\n",
            "Success\n",
            "Success\n",
            "Success\n",
            "Success\n",
            "Success\n",
            "Success\n",
            "Success\n",
            "Success\n",
            "FAILED - cannot write mode P as JPEG\n",
            "Success\n",
            "Success\n"
          ]
        }
      ]
    },
    {
      "cell_type": "code",
      "source": [
        "!pwd"
      ],
      "metadata": {
        "colab": {
          "base_uri": "https://localhost:8080/"
        },
        "id": "YXjtnXZDNB4n",
        "outputId": "988052fc-4cb4-4752-855c-48cc45779a94"
      },
      "execution_count": null,
      "outputs": [
        {
          "output_type": "stream",
          "name": "stdout",
          "text": [
            "/content\n"
          ]
        }
      ]
    },
    {
      "cell_type": "code",
      "source": [
        "!pwd"
      ],
      "metadata": {
        "colab": {
          "base_uri": "https://localhost:8080/"
        },
        "id": "D6PHZHxpOet4",
        "outputId": "3eb68ee6-4b71-425e-f530-7ef6d474eedb"
      },
      "execution_count": null,
      "outputs": [
        {
          "output_type": "stream",
          "name": "stdout",
          "text": [
            "/content\n"
          ]
        }
      ]
    },
    {
      "cell_type": "code",
      "source": [
        "!pwd"
      ],
      "metadata": {
        "colab": {
          "base_uri": "https://localhost:8080/"
        },
        "id": "8X0Fh5e5OlJg",
        "outputId": "01103162-d122-4b5b-aa9b-19c7e75ca5ee"
      },
      "execution_count": null,
      "outputs": [
        {
          "output_type": "stream",
          "name": "stdout",
          "text": [
            "/content\n"
          ]
        }
      ]
    },
    {
      "cell_type": "code",
      "source": [
        "!cd Images/"
      ],
      "metadata": {
        "id": "Tj-v4Qj4Ovqt"
      },
      "execution_count": null,
      "outputs": []
    },
    {
      "cell_type": "code",
      "source": [
        "!ls -a"
      ],
      "metadata": {
        "colab": {
          "base_uri": "https://localhost:8080/"
        },
        "id": "CflUcsYqO3v-",
        "outputId": "71ac58ea-4ccd-4db9-efb2-ed2e3d77228c"
      },
      "execution_count": null,
      "outputs": [
        {
          "output_type": "stream",
          "name": "stdout",
          "text": [
            ".  ..  .config\tImages\t.ipynb_checkpoints  sample_data\n"
          ]
        }
      ]
    },
    {
      "cell_type": "code",
      "source": [
        "!mkdir /content/drive/MyDrive/Twist/"
      ],
      "metadata": {
        "id": "U9Mqyi_2Ppuk"
      },
      "execution_count": null,
      "outputs": []
    },
    {
      "cell_type": "code",
      "source": [
        "!mv /content/Images/ /content/drive/MyDrive/Twist"
      ],
      "metadata": {
        "id": "ZiOFc-KXPeGm"
      },
      "execution_count": null,
      "outputs": []
    },
    {
      "cell_type": "markdown",
      "metadata": {
        "id": "7mGmQbAO5pQb"
      },
      "source": [
        "# Setup\n",
        "\n",
        "Clone repo, install dependencies and check PyTorch and GPU."
      ]
    },
    {
      "cell_type": "code",
      "metadata": {
        "id": "wbvMlHd_QwMG",
        "colab": {
          "base_uri": "https://localhost:8080/"
        },
        "outputId": "821fe4ac-9f92-4ba6-fc70-d3999c1df1af"
      },
      "source": [
        "!git clone https://github.com/ultralytics/yolov5  # clone\n",
        "%cd yolov5\n",
        "%pip install -qr requirements.txt  # install\n",
        "\n",
        "import torch\n",
        "from yolov5 import utils\n",
        "display = utils.notebook_init()  # checks"
      ],
      "execution_count": null,
      "outputs": [
        {
          "output_type": "stream",
          "name": "stderr",
          "text": [
            "YOLOv5 🚀 v6.0-248-gcb2ad9f torch 1.10.0+cu111 CUDA:0 (Tesla K80, 11441MiB)\n"
          ]
        },
        {
          "output_type": "stream",
          "name": "stdout",
          "text": [
            "Setup complete ✅ (2 CPUs, 12.7 GB RAM, 42.2/78.2 GB disk)\n"
          ]
        }
      ]
    },
    {
      "cell_type": "markdown",
      "metadata": {
        "id": "4JnkELT0cIJg"
      },
      "source": [
        "# 1. Inference\n",
        "\n",
        "`detect.py` runs YOLOv5 inference on a variety of sources, downloading models automatically from the [latest YOLOv5 release](https://github.com/ultralytics/yolov5/releases), and saving results to `runs/detect`. Example inference sources are:\n",
        "\n",
        "```shell\n",
        "python detect.py --source 0  # webcam\n",
        "                          img.jpg  # image \n",
        "                          vid.mp4  # video\n",
        "                          path/  # directory\n",
        "                          path/*.jpg  # glob\n",
        "                          'https://youtu.be/Zgi9g1ksQHc'  # YouTube\n",
        "                          'rtsp://example.com/media.mp4'  # RTSP, RTMP, HTTP stream\n",
        "```"
      ]
    },
    {
      "cell_type": "code",
      "metadata": {
        "id": "zR9ZbuQCH7FX",
        "colab": {
          "base_uri": "https://localhost:8080/"
        },
        "outputId": "8f7e6588-215d-4ebd-93af-88b871e770a7"
      },
      "source": [
        "!python detect.py --weights yolov5s.pt --img 640 --conf 0.25 --source data/images\n",
        "display.Image(filename='runs/detect/exp/zidane.jpg', width=600)"
      ],
      "execution_count": null,
      "outputs": [
        {
          "output_type": "stream",
          "name": "stdout",
          "text": [
            "\u001b[34m\u001b[1mdetect: \u001b[0mweights=['yolov5s.pt'], source=data/images, imgsz=[640, 640], conf_thres=0.25, iou_thres=0.45, max_det=1000, device=, view_img=False, save_txt=False, save_conf=False, save_crop=False, nosave=False, classes=None, agnostic_nms=False, augment=False, visualize=False, update=False, project=runs/detect, name=exp, exist_ok=False, line_thickness=3, hide_labels=False, hide_conf=False, half=False, dnn=False\n",
            "YOLOv5 🚀 v6.0-48-g84a8099 torch 1.10.0+cu102 CUDA:0 (Tesla V100-SXM2-16GB, 16160MiB)\n",
            "\n",
            "Fusing layers... \n",
            "Model Summary: 213 layers, 7225885 parameters, 0 gradients\n",
            "image 1/2 /content/yolov5/data/images/bus.jpg: 640x480 4 persons, 1 bus, Done. (0.007s)\n",
            "image 2/2 /content/yolov5/data/images/zidane.jpg: 384x640 2 persons, 1 tie, Done. (0.007s)\n",
            "Speed: 0.5ms pre-process, 6.9ms inference, 1.3ms NMS per image at shape (1, 3, 640, 640)\n",
            "Results saved to \u001b[1mruns/detect/exp\u001b[0m\n"
          ]
        }
      ]
    },
    {
      "cell_type": "markdown",
      "metadata": {
        "id": "hkAzDWJ7cWTr"
      },
      "source": [
        "&nbsp;&nbsp;&nbsp;&nbsp;&nbsp;&nbsp;&nbsp;&nbsp;\n",
        "<img align=\"left\" src=\"https://user-images.githubusercontent.com/26833433/127574988-6a558aa1-d268-44b9-bf6b-62d4c605cc72.jpg\" width=\"600\">"
      ]
    },
    {
      "cell_type": "markdown",
      "metadata": {
        "id": "0eq1SMWl6Sfn"
      },
      "source": [
        "# 2. Validate\n",
        "Validate a model's accuracy on [COCO](https://cocodataset.org/#home) val or test-dev datasets. Models are downloaded automatically from the [latest YOLOv5 release](https://github.com/ultralytics/yolov5/releases). To show results by class use the `--verbose` flag. Note that `pycocotools` metrics may be ~1% better than the equivalent repo metrics, as is visible below, due to slight differences in mAP computation."
      ]
    },
    {
      "cell_type": "markdown",
      "metadata": {
        "id": "eyTZYGgRjnMc"
      },
      "source": [
        "## COCO val\n",
        "Download [COCO val 2017](https://github.com/ultralytics/yolov5/blob/74b34872fdf41941cddcf243951cdb090fbac17b/data/coco.yaml#L14) dataset (1GB - 5000 images), and test model accuracy."
      ]
    },
    {
      "cell_type": "code",
      "metadata": {
        "id": "WQPtK1QYVaD_",
        "colab": {
          "base_uri": "https://localhost:8080/",
          "height": 48,
          "referenced_widgets": [
            "eb95db7cae194218b3fcefb439b6352f",
            "769ecde6f2e64bacb596ce972f8d3d2d",
            "384a001876054c93b0af45cd1e960bfe",
            "dded0aeae74440f7ba2ffa0beb8dd612",
            "5296d28be75740b2892ae421bbec3657",
            "9f09facb2a6c4a7096810d327c8b551c",
            "25621cff5d16448cb7260e839fd0f543",
            "0ce7164fc0c74bb9a2b5c7037375a727",
            "c4c4593c10904cb5b8a5724d60c7e181",
            "473371611126476c88d5d42ec7031ed6",
            "65efdfd0d26c46e79c8c5ff3b77126cc"
          ]
        },
        "outputId": "bcf9a448-1f9b-4a41-ad49-12f181faf05a"
      },
      "source": [
        "# Download COCO val\n",
        "torch.hub.download_url_to_file('https://ultralytics.com/assets/coco2017val.zip', 'tmp.zip')\n",
        "!unzip -q tmp.zip -d ../datasets && rm tmp.zip"
      ],
      "execution_count": null,
      "outputs": [
        {
          "output_type": "display_data",
          "data": {
            "application/vnd.jupyter.widget-view+json": {
              "model_id": "eb95db7cae194218b3fcefb439b6352f",
              "version_minor": 0,
              "version_major": 2
            },
            "text/plain": [
              "  0%|          | 0.00/780M [00:00<?, ?B/s]"
            ]
          },
          "metadata": {}
        }
      ]
    },
    {
      "cell_type": "code",
      "metadata": {
        "id": "X58w8JLpMnjH",
        "colab": {
          "base_uri": "https://localhost:8080/"
        },
        "outputId": "74f1dfa9-6b6d-4b36-f67e-bbae243869f9"
      },
      "source": [
        "# Run YOLOv5x on COCO val\n",
        "!python val.py --weights yolov5x.pt --data coco.yaml --img 640 --iou 0.65 --half"
      ],
      "execution_count": null,
      "outputs": [
        {
          "output_type": "stream",
          "name": "stdout",
          "text": [
            "\u001b[34m\u001b[1mval: \u001b[0mdata=/content/yolov5/data/coco.yaml, weights=['yolov5x.pt'], batch_size=32, imgsz=640, conf_thres=0.001, iou_thres=0.65, task=val, device=, single_cls=False, augment=False, verbose=False, save_txt=False, save_hybrid=False, save_conf=False, save_json=True, project=runs/val, name=exp, exist_ok=False, half=True\n",
            "YOLOv5 🚀 v6.0-48-g84a8099 torch 1.10.0+cu102 CUDA:0 (Tesla V100-SXM2-16GB, 16160MiB)\n",
            "\n",
            "Downloading https://github.com/ultralytics/yolov5/releases/download/v6.0/yolov5x.pt to yolov5x.pt...\n",
            "100% 166M/166M [00:03<00:00, 54.1MB/s]\n",
            "\n",
            "Fusing layers... \n",
            "Model Summary: 444 layers, 86705005 parameters, 0 gradients\n",
            "\u001b[34m\u001b[1mval: \u001b[0mScanning '../datasets/coco/val2017' images and labels...4952 found, 48 missing, 0 empty, 0 corrupted: 100% 5000/5000 [00:01<00:00, 2636.64it/s]\n",
            "\u001b[34m\u001b[1mval: \u001b[0mNew cache created: ../datasets/coco/val2017.cache\n",
            "               Class     Images     Labels          P          R     mAP@.5 mAP@.5:.95: 100% 157/157 [01:12<00:00,  2.17it/s]\n",
            "                 all       5000      36335      0.729       0.63      0.683      0.496\n",
            "Speed: 0.1ms pre-process, 4.9ms inference, 1.9ms NMS per image at shape (32, 3, 640, 640)\n",
            "\n",
            "Evaluating pycocotools mAP... saving runs/val/exp/yolov5x_predictions.json...\n",
            "loading annotations into memory...\n",
            "Done (t=0.46s)\n",
            "creating index...\n",
            "index created!\n",
            "Loading and preparing results...\n",
            "DONE (t=5.15s)\n",
            "creating index...\n",
            "index created!\n",
            "Running per image evaluation...\n",
            "Evaluate annotation type *bbox*\n",
            "DONE (t=90.39s).\n",
            "Accumulating evaluation results...\n",
            "DONE (t=14.54s).\n",
            " Average Precision  (AP) @[ IoU=0.50:0.95 | area=   all | maxDets=100 ] = 0.507\n",
            " Average Precision  (AP) @[ IoU=0.50      | area=   all | maxDets=100 ] = 0.689\n",
            " Average Precision  (AP) @[ IoU=0.75      | area=   all | maxDets=100 ] = 0.552\n",
            " Average Precision  (AP) @[ IoU=0.50:0.95 | area= small | maxDets=100 ] = 0.345\n",
            " Average Precision  (AP) @[ IoU=0.50:0.95 | area=medium | maxDets=100 ] = 0.559\n",
            " Average Precision  (AP) @[ IoU=0.50:0.95 | area= large | maxDets=100 ] = 0.652\n",
            " Average Recall     (AR) @[ IoU=0.50:0.95 | area=   all | maxDets=  1 ] = 0.381\n",
            " Average Recall     (AR) @[ IoU=0.50:0.95 | area=   all | maxDets= 10 ] = 0.630\n",
            " Average Recall     (AR) @[ IoU=0.50:0.95 | area=   all | maxDets=100 ] = 0.682\n",
            " Average Recall     (AR) @[ IoU=0.50:0.95 | area= small | maxDets=100 ] = 0.526\n",
            " Average Recall     (AR) @[ IoU=0.50:0.95 | area=medium | maxDets=100 ] = 0.732\n",
            " Average Recall     (AR) @[ IoU=0.50:0.95 | area= large | maxDets=100 ] = 0.829\n",
            "Results saved to \u001b[1mruns/val/exp\u001b[0m\n"
          ]
        }
      ]
    },
    {
      "cell_type": "markdown",
      "metadata": {
        "id": "rc_KbFk0juX2"
      },
      "source": [
        "## COCO test\n",
        "Download [COCO test2017](https://github.com/ultralytics/yolov5/blob/74b34872fdf41941cddcf243951cdb090fbac17b/data/coco.yaml#L15) dataset (7GB - 40,000 images), to test model accuracy on test-dev set (**20,000 images, no labels**). Results are saved to a `*.json` file which should be **zipped** and submitted to the evaluation server at https://competitions.codalab.org/competitions/20794."
      ]
    },
    {
      "cell_type": "code",
      "metadata": {
        "id": "V0AJnSeCIHyJ"
      },
      "source": [
        "# Download COCO test-dev2017\n",
        "torch.hub.download_url_to_file('https://ultralytics.com/assets/coco2017labels.zip', 'tmp.zip')\n",
        "!unzip -q tmp.zip -d ../datasets && rm tmp.zip\n",
        "!f=\"test2017.zip\" && curl http://images.cocodataset.org/zips/$f -o $f && unzip -q $f -d ../datasets/coco/images"
      ],
      "execution_count": null,
      "outputs": []
    },
    {
      "cell_type": "code",
      "metadata": {
        "id": "29GJXAP_lPrt"
      },
      "source": [
        "# Run YOLOv5x on COCO test\n",
        "!python val.py --weights yolov5x.pt --data coco.yaml --img 640 --iou 0.65 --half --task test"
      ],
      "execution_count": null,
      "outputs": []
    },
    {
      "cell_type": "markdown",
      "metadata": {
        "id": "ZY2VXXXu74w5"
      },
      "source": [
        "# 3. Train\n",
        "\n",
        "<p align=\"\"><a href=\"https://roboflow.com/?ref=ultralytics\"><img width=\"1000\" src=\"https://uploads-ssl.webflow.com/5f6bc60e665f54545a1e52a5/615627e5824c9c6195abfda9_computer-vision-cycle.png\"/></a></p>\n",
        "Close the active learning loop by sampling images from your inference conditions with the `roboflow` pip package\n",
        "<br><br>\n",
        "\n",
        "Train a YOLOv5s model on the [COCO128](https://www.kaggle.com/ultralytics/coco128) dataset with `--data coco128.yaml`, starting from pretrained `--weights yolov5s.pt`, or from randomly initialized `--weights '' --cfg yolov5s.yaml`.\n",
        "\n",
        "- **Pretrained [Models](https://github.com/ultralytics/yolov5/tree/master/models)** are downloaded\n",
        "automatically from the [latest YOLOv5 release](https://github.com/ultralytics/yolov5/releases)\n",
        "- **[Datasets](https://github.com/ultralytics/yolov5/tree/master/data)** available for autodownload include: [COCO](https://github.com/ultralytics/yolov5/blob/master/data/coco.yaml), [COCO128](https://github.com/ultralytics/yolov5/blob/master/data/coco128.yaml), [VOC](https://github.com/ultralytics/yolov5/blob/master/data/VOC.yaml), [Argoverse](https://github.com/ultralytics/yolov5/blob/master/data/Argoverse.yaml), [VisDrone](https://github.com/ultralytics/yolov5/blob/master/data/VisDrone.yaml), [GlobalWheat](https://github.com/ultralytics/yolov5/blob/master/data/GlobalWheat2020.yaml), [xView](https://github.com/ultralytics/yolov5/blob/master/data/xView.yaml), [Objects365](https://github.com/ultralytics/yolov5/blob/master/data/Objects365.yaml), [SKU-110K](https://github.com/ultralytics/yolov5/blob/master/data/SKU-110K.yaml).\n",
        "- **Training Results** are saved to `runs/train/` with incrementing run directories, i.e. `runs/train/exp2`, `runs/train/exp3` etc.\n",
        "<br><br>\n",
        "\n",
        "## Train on Custom Data with Roboflow 🌟 NEW\n",
        "\n",
        "[Roboflow](https://roboflow.com/?ref=ultralytics) enables you to easily **organize, label, and prepare** a high quality dataset with your own custom data. Roboflow also makes it easy to establish an active learning pipeline, collaborate with your team on dataset improvement, and integrate directly into your model building workflow with the `roboflow` pip package.\n",
        "\n",
        "- Custom Training Example: [https://blog.roboflow.com/how-to-train-yolov5-on-a-custom-dataset/](https://blog.roboflow.com/how-to-train-yolov5-on-a-custom-dataset/?ref=ultralytics)\n",
        "- Custom Training Notebook: [![Open In Colab](https://colab.research.google.com/assets/colab-badge.svg)](https://colab.research.google.com/github/roboflow-ai/yolov5-custom-training-tutorial/blob/main/yolov5-custom-training.ipynb)\n",
        "<br>\n",
        "\n",
        "<p align=\"\"><a href=\"https://roboflow.com/?ref=ultralytics\"><img width=\"480\" src=\"https://uploads-ssl.webflow.com/5f6bc60e665f54545a1e52a5/6152a275ad4b4ac20cd2e21a_roboflow-annotate.gif\"/></a></p>Label images lightning fast (including with model-assisted labeling)"
      ]
    },
    {
      "cell_type": "code",
      "metadata": {
        "id": "bOy5KI2ncnWd"
      },
      "source": [
        "# Tensorboard  (optional)\n",
        "%load_ext tensorboard\n",
        "%tensorboard --logdir runs/train"
      ],
      "execution_count": null,
      "outputs": []
    },
    {
      "cell_type": "code",
      "metadata": {
        "id": "2fLAV42oNb7M"
      },
      "source": [
        "# Weights & Biases  (optional)\n",
        "%pip install -q wandb\n",
        "import wandb\n",
        "wandb.login()"
      ],
      "execution_count": null,
      "outputs": []
    },
    {
      "cell_type": "code",
      "metadata": {
        "id": "1NcFxRcFdJ_O",
        "colab": {
          "base_uri": "https://localhost:8080/"
        },
        "outputId": "da417ca3-82aa-4cca-b6ff-7420e934f441"
      },
      "source": [
        "# Train YOLOv5s on COCO128 for 3 epochs\n",
        "!python train.py --img 640 --batch 2 --epochs 60 --data cocodata128.yaml --weights yolov5s.pt --cache"
      ],
      "execution_count": null,
      "outputs": [
        {
          "output_type": "stream",
          "name": "stdout",
          "text": [
            "\u001b[34m\u001b[1mtrain: \u001b[0mweights=yolov5s.pt, cfg=, data=cocodata128.yaml, hyp=data/hyps/hyp.scratch.yaml, epochs=60, batch_size=2, imgsz=640, rect=False, resume=False, nosave=False, noval=False, noautoanchor=False, evolve=None, bucket=, cache=ram, image_weights=False, device=, multi_scale=False, single_cls=False, optimizer=SGD, sync_bn=False, workers=8, project=runs/train, name=exp, exist_ok=False, quad=False, linear_lr=False, label_smoothing=0.0, patience=100, freeze=[0], save_period=-1, local_rank=-1, entity=None, upload_dataset=False, bbox_interval=-1, artifact_alias=latest\n",
            "\u001b[34m\u001b[1mgithub: \u001b[0mup to date with https://github.com/ultralytics/yolov5 ✅\n",
            "YOLOv5 🚀 v6.0-248-gcb2ad9f torch 1.10.0+cu111 CUDA:0 (Tesla K80, 11441MiB)\n",
            "\n",
            "\u001b[34m\u001b[1mhyperparameters: \u001b[0mlr0=0.01, lrf=0.1, momentum=0.937, weight_decay=0.0005, warmup_epochs=3.0, warmup_momentum=0.8, warmup_bias_lr=0.1, box=0.05, cls=0.5, cls_pw=1.0, obj=1.0, obj_pw=1.0, iou_t=0.2, anchor_t=4.0, fl_gamma=0.0, hsv_h=0.015, hsv_s=0.7, hsv_v=0.4, degrees=0.0, translate=0.1, scale=0.5, shear=0.0, perspective=0.0, flipud=0.0, fliplr=0.5, mosaic=1.0, mixup=0.0, copy_paste=0.0\n",
            "\u001b[34m\u001b[1mWeights & Biases: \u001b[0mrun 'pip install wandb' to automatically track and visualize YOLOv5 🚀 runs (RECOMMENDED)\n",
            "\u001b[34m\u001b[1mTensorBoard: \u001b[0mStart with 'tensorboard --logdir runs/train', view at http://localhost:6006/\n",
            "Overriding model.yaml nc=80 with nc=2\n",
            "\n",
            "                 from  n    params  module                                  arguments                     \n",
            "  0                -1  1      3520  models.common.Conv                      [3, 32, 6, 2, 2]              \n",
            "  1                -1  1     18560  models.common.Conv                      [32, 64, 3, 2]                \n",
            "  2                -1  1     18816  models.common.C3                        [64, 64, 1]                   \n",
            "  3                -1  1     73984  models.common.Conv                      [64, 128, 3, 2]               \n",
            "  4                -1  2    115712  models.common.C3                        [128, 128, 2]                 \n",
            "  5                -1  1    295424  models.common.Conv                      [128, 256, 3, 2]              \n",
            "  6                -1  3    625152  models.common.C3                        [256, 256, 3]                 \n",
            "  7                -1  1   1180672  models.common.Conv                      [256, 512, 3, 2]              \n",
            "  8                -1  1   1182720  models.common.C3                        [512, 512, 1]                 \n",
            "  9                -1  1    656896  models.common.SPPF                      [512, 512, 5]                 \n",
            " 10                -1  1    131584  models.common.Conv                      [512, 256, 1, 1]              \n",
            " 11                -1  1         0  torch.nn.modules.upsampling.Upsample    [None, 2, 'nearest']          \n",
            " 12           [-1, 6]  1         0  models.common.Concat                    [1]                           \n",
            " 13                -1  1    361984  models.common.C3                        [512, 256, 1, False]          \n",
            " 14                -1  1     33024  models.common.Conv                      [256, 128, 1, 1]              \n",
            " 15                -1  1         0  torch.nn.modules.upsampling.Upsample    [None, 2, 'nearest']          \n",
            " 16           [-1, 4]  1         0  models.common.Concat                    [1]                           \n",
            " 17                -1  1     90880  models.common.C3                        [256, 128, 1, False]          \n",
            " 18                -1  1    147712  models.common.Conv                      [128, 128, 3, 2]              \n",
            " 19          [-1, 14]  1         0  models.common.Concat                    [1]                           \n",
            " 20                -1  1    296448  models.common.C3                        [256, 256, 1, False]          \n",
            " 21                -1  1    590336  models.common.Conv                      [256, 256, 3, 2]              \n",
            " 22          [-1, 10]  1         0  models.common.Concat                    [1]                           \n",
            " 23                -1  1   1182720  models.common.C3                        [512, 512, 1, False]          \n",
            " 24      [17, 20, 23]  1     18879  models.yolo.Detect                      [2, [[10, 13, 16, 30, 33, 23], [30, 61, 62, 45, 59, 119], [116, 90, 156, 198, 373, 326]], [128, 256, 512]]\n",
            "Model Summary: 270 layers, 7025023 parameters, 7025023 gradients, 15.9 GFLOPs\n",
            "\n",
            "Transferred 343/349 items from yolov5s.pt\n",
            "Scaled weight_decay = 0.0005\n",
            "\u001b[34m\u001b[1moptimizer:\u001b[0m SGD with parameter groups 57 weight (no decay), 60 weight, 60 bias\n",
            "\u001b[34m\u001b[1malbumentations: \u001b[0mversion 1.0.3 required by YOLOv5, but version 0.1.12 is currently installed\n",
            "\u001b[34m\u001b[1mtrain: \u001b[0mScanning '/content/drive/MyDrive/Twist/train_data/labels/train.cache' images and labels... 30 found, 14 missing, 0 empty, 0 corrupt: 100% 44/44 [00:00<?, ?it/s]\n",
            "\u001b[34m\u001b[1mtrain: \u001b[0mCaching images (0.0GB ram): 100% 44/44 [00:00<00:00, 65.89it/s]\n",
            "\u001b[34m\u001b[1mval: \u001b[0mScanning '/content/drive/MyDrive/Twist/train_data/labels/val.cache' images and labels... 14 found, 0 missing, 0 empty, 2 corrupt: 100% 16/16 [00:00<?, ?it/s]\n",
            "\u001b[34m\u001b[1mval: \u001b[0mWARNING: /content/drive/MyDrive/Twist/train_data/images/val/29egg.jpg: ignoring corrupt image/label: cannot identify image file '/content/drive/MyDrive/Twist/train_data/images/val/29egg.jpg'\n",
            "\u001b[34m\u001b[1mval: \u001b[0mWARNING: /content/drive/MyDrive/Twist/train_data/images/val/8egg.jpg: ignoring corrupt image/label: cannot identify image file '/content/drive/MyDrive/Twist/train_data/images/val/8egg.jpg'\n",
            "\u001b[34m\u001b[1mval: \u001b[0mCaching images (0.0GB ram): 100% 14/14 [00:00<00:00, 45.04it/s]\n",
            "Plotting labels to runs/train/exp3/labels.jpg... \n",
            "\n",
            "\u001b[34m\u001b[1mAutoAnchor: \u001b[0m4.79 anchors/target, 1.000 Best Possible Recall (BPR). Current anchors are a good fit to dataset ✅\n",
            "Image sizes 640 train, 640 val\n",
            "Using 2 dataloader workers\n",
            "Logging results to \u001b[1mruns/train/exp3\u001b[0m\n",
            "Starting training for 60 epochs...\n",
            "\n",
            "     Epoch   gpu_mem       box       obj       cls    labels  img_size\n",
            "      0/59    0.497G    0.1044   0.03451   0.02567         8       640: 100% 22/22 [00:08<00:00,  2.49it/s]\n",
            "               Class     Images     Labels          P          R     mAP@.5 mAP@.5:.95: 100% 4/4 [00:00<00:00,  6.39it/s]\n",
            "                 all         14         83    0.00873     0.0941    0.00425     0.0008\n",
            "\n",
            "     Epoch   gpu_mem       box       obj       cls    labels  img_size\n",
            "      1/59     0.64G   0.09801   0.03489   0.02361        21       640: 100% 22/22 [00:06<00:00,  3.39it/s]\n",
            "               Class     Images     Labels          P          R     mAP@.5 mAP@.5:.95: 100% 4/4 [00:00<00:00,  6.91it/s]\n",
            "                 all         14         83     0.0318     0.0139    0.00546   0.000991\n",
            "\n",
            "     Epoch   gpu_mem       box       obj       cls    labels  img_size\n",
            "      2/59     0.64G   0.09498   0.03684   0.02374         2       640: 100% 22/22 [00:06<00:00,  3.43it/s]\n",
            "               Class     Images     Labels          P          R     mAP@.5 mAP@.5:.95: 100% 4/4 [00:00<00:00,  7.09it/s]\n",
            "                 all         14         83     0.0148     0.0556     0.0122    0.00232\n",
            "\n",
            "     Epoch   gpu_mem       box       obj       cls    labels  img_size\n",
            "      3/59     0.64G   0.09632   0.03518   0.02477         3       640: 100% 22/22 [00:06<00:00,  3.46it/s]\n",
            "               Class     Images     Labels          P          R     mAP@.5 mAP@.5:.95: 100% 4/4 [00:00<00:00,  7.76it/s]\n",
            "                 all         14         83     0.0698     0.0208     0.0146    0.00334\n",
            "\n",
            "     Epoch   gpu_mem       box       obj       cls    labels  img_size\n",
            "      4/59     0.64G   0.09622   0.03756   0.02373         5       640: 100% 22/22 [00:06<00:00,  3.46it/s]\n",
            "               Class     Images     Labels          P          R     mAP@.5 mAP@.5:.95: 100% 4/4 [00:00<00:00,  8.21it/s]\n",
            "                 all         14         83     0.0422     0.0347     0.0166      0.004\n",
            "\n",
            "     Epoch   gpu_mem       box       obj       cls    labels  img_size\n",
            "      5/59     0.64G   0.09131   0.04124   0.02505         3       640: 100% 22/22 [00:06<00:00,  3.47it/s]\n",
            "               Class     Images     Labels          P          R     mAP@.5 mAP@.5:.95: 100% 4/4 [00:00<00:00,  8.85it/s]\n",
            "                 all         14         83     0.0535     0.0556     0.0195    0.00555\n",
            "\n",
            "     Epoch   gpu_mem       box       obj       cls    labels  img_size\n",
            "      6/59     0.64G   0.08621   0.04377   0.02284         6       640: 100% 22/22 [00:06<00:00,  3.49it/s]\n",
            "               Class     Images     Labels          P          R     mAP@.5 mAP@.5:.95: 100% 4/4 [00:00<00:00,  9.34it/s]\n",
            "                 all         14         83     0.0954     0.0541     0.0305    0.00715\n",
            "\n",
            "     Epoch   gpu_mem       box       obj       cls    labels  img_size\n",
            "      7/59     0.64G   0.08061   0.03779   0.02311         8       640: 100% 22/22 [00:06<00:00,  3.50it/s]\n",
            "               Class     Images     Labels          P          R     mAP@.5 mAP@.5:.95: 100% 4/4 [00:00<00:00,  9.86it/s]\n",
            "                 all         14         83     0.0683      0.181     0.0337    0.00743\n",
            "\n",
            "     Epoch   gpu_mem       box       obj       cls    labels  img_size\n",
            "      8/59     0.64G   0.07056   0.03799   0.01968         6       640: 100% 22/22 [00:06<00:00,  3.52it/s]\n",
            "               Class     Images     Labels          P          R     mAP@.5 mAP@.5:.95: 100% 4/4 [00:00<00:00,  9.99it/s]\n",
            "                 all         14         83       0.14      0.174     0.0626     0.0137\n",
            "\n",
            "     Epoch   gpu_mem       box       obj       cls    labels  img_size\n",
            "      9/59     0.64G    0.0703   0.03261   0.01979         4       640: 100% 22/22 [00:06<00:00,  3.52it/s]\n",
            "               Class     Images     Labels          P          R     mAP@.5 mAP@.5:.95: 100% 4/4 [00:00<00:00, 10.50it/s]\n",
            "                 all         14         83        0.2      0.101      0.069     0.0153\n",
            "\n",
            "     Epoch   gpu_mem       box       obj       cls    labels  img_size\n",
            "     10/59     0.64G   0.07124   0.03645    0.0208         3       640: 100% 22/22 [00:06<00:00,  3.54it/s]\n",
            "               Class     Images     Labels          P          R     mAP@.5 mAP@.5:.95: 100% 4/4 [00:00<00:00, 10.72it/s]\n",
            "                 all         14         83      0.194      0.108     0.0696     0.0148\n",
            "\n",
            "     Epoch   gpu_mem       box       obj       cls    labels  img_size\n",
            "     11/59     0.64G   0.06737   0.03994   0.01977         2       640: 100% 22/22 [00:06<00:00,  3.52it/s]\n",
            "               Class     Images     Labels          P          R     mAP@.5 mAP@.5:.95: 100% 4/4 [00:00<00:00, 11.03it/s]\n",
            "                 all         14         83      0.572      0.115      0.116     0.0349\n",
            "\n",
            "     Epoch   gpu_mem       box       obj       cls    labels  img_size\n",
            "     12/59     0.64G   0.07388   0.04436   0.02066         6       640: 100% 22/22 [00:06<00:00,  3.51it/s]\n",
            "               Class     Images     Labels          P          R     mAP@.5 mAP@.5:.95: 100% 4/4 [00:00<00:00, 10.85it/s]\n",
            "                 all         14         83       0.38      0.188      0.148     0.0325\n",
            "\n",
            "     Epoch   gpu_mem       box       obj       cls    labels  img_size\n",
            "     13/59     0.64G   0.05567   0.03639   0.01751         4       640: 100% 22/22 [00:06<00:00,  3.52it/s]\n",
            "               Class     Images     Labels          P          R     mAP@.5 mAP@.5:.95: 100% 4/4 [00:00<00:00, 11.08it/s]\n",
            "                 all         14         83      0.252      0.248      0.143     0.0282\n",
            "\n",
            "     Epoch   gpu_mem       box       obj       cls    labels  img_size\n",
            "     14/59     0.64G   0.07462   0.04082   0.02085         6       640: 100% 22/22 [00:06<00:00,  3.47it/s]\n",
            "               Class     Images     Labels          P          R     mAP@.5 mAP@.5:.95: 100% 4/4 [00:00<00:00, 11.09it/s]\n",
            "                 all         14         83      0.241      0.216      0.108     0.0292\n",
            "\n",
            "     Epoch   gpu_mem       box       obj       cls    labels  img_size\n",
            "     15/59     0.64G   0.06677   0.03513   0.01883         1       640: 100% 22/22 [00:06<00:00,  3.50it/s]\n",
            "               Class     Images     Labels          P          R     mAP@.5 mAP@.5:.95: 100% 4/4 [00:00<00:00, 11.16it/s]\n",
            "                 all         14         83      0.286      0.321      0.185     0.0621\n",
            "\n",
            "     Epoch   gpu_mem       box       obj       cls    labels  img_size\n",
            "     16/59     0.64G   0.06303   0.05028   0.01818        10       640: 100% 22/22 [00:06<00:00,  3.51it/s]\n",
            "               Class     Images     Labels          P          R     mAP@.5 mAP@.5:.95: 100% 4/4 [00:00<00:00, 10.78it/s]\n",
            "                 all         14         83      0.472      0.223      0.204     0.0571\n",
            "\n",
            "     Epoch   gpu_mem       box       obj       cls    labels  img_size\n",
            "     17/59     0.64G   0.05641   0.03831   0.01527         3       640: 100% 22/22 [00:06<00:00,  3.56it/s]\n",
            "               Class     Images     Labels          P          R     mAP@.5 mAP@.5:.95: 100% 4/4 [00:00<00:00, 11.05it/s]\n",
            "                 all         14         83      0.619      0.209      0.221     0.0528\n",
            "\n",
            "     Epoch   gpu_mem       box       obj       cls    labels  img_size\n",
            "     18/59     0.64G   0.06541   0.04753   0.01626        52       640: 100% 22/22 [00:06<00:00,  3.51it/s]\n",
            "               Class     Images     Labels          P          R     mAP@.5 mAP@.5:.95: 100% 4/4 [00:00<00:00, 11.77it/s]\n",
            "                 all         14         83      0.203      0.268       0.17     0.0533\n",
            "\n",
            "     Epoch   gpu_mem       box       obj       cls    labels  img_size\n",
            "     19/59     0.64G   0.06438   0.04336   0.01817         4       640: 100% 22/22 [00:06<00:00,  3.49it/s]\n",
            "               Class     Images     Labels          P          R     mAP@.5 mAP@.5:.95: 100% 4/4 [00:00<00:00, 11.49it/s]\n",
            "                 all         14         83      0.311      0.314      0.203     0.0512\n",
            "\n",
            "     Epoch   gpu_mem       box       obj       cls    labels  img_size\n",
            "     20/59     0.64G   0.06121    0.0408   0.01622         7       640: 100% 22/22 [00:06<00:00,  3.54it/s]\n",
            "               Class     Images     Labels          P          R     mAP@.5 mAP@.5:.95: 100% 4/4 [00:00<00:00, 11.67it/s]\n",
            "                 all         14         83       0.27      0.307      0.206     0.0938\n",
            "\n",
            "     Epoch   gpu_mem       box       obj       cls    labels  img_size\n",
            "     21/59     0.64G   0.05854   0.03496   0.01672         9       640: 100% 22/22 [00:06<00:00,  3.54it/s]\n",
            "               Class     Images     Labels          P          R     mAP@.5 mAP@.5:.95: 100% 4/4 [00:00<00:00, 11.83it/s]\n",
            "                 all         14         83      0.305      0.328      0.191     0.0743\n",
            "\n",
            "     Epoch   gpu_mem       box       obj       cls    labels  img_size\n",
            "     22/59     0.64G   0.06508   0.04283   0.01631        11       640: 100% 22/22 [00:06<00:00,  3.50it/s]\n",
            "               Class     Images     Labels          P          R     mAP@.5 mAP@.5:.95: 100% 4/4 [00:00<00:00, 11.44it/s]\n",
            "                 all         14         83      0.308      0.303      0.174     0.0345\n",
            "\n",
            "     Epoch   gpu_mem       box       obj       cls    labels  img_size\n",
            "     23/59     0.64G   0.07039   0.03613   0.01638         7       640: 100% 22/22 [00:06<00:00,  3.52it/s]\n",
            "               Class     Images     Labels          P          R     mAP@.5 mAP@.5:.95: 100% 4/4 [00:00<00:00, 11.78it/s]\n",
            "                 all         14         83      0.555      0.282      0.272     0.0557\n",
            "\n",
            "     Epoch   gpu_mem       box       obj       cls    labels  img_size\n",
            "     24/59     0.64G   0.06375   0.03928   0.01819         9       640: 100% 22/22 [00:06<00:00,  3.52it/s]\n",
            "               Class     Images     Labels          P          R     mAP@.5 mAP@.5:.95: 100% 4/4 [00:00<00:00, 11.98it/s]\n",
            "                 all         14         83      0.693      0.261      0.247     0.0725\n",
            "\n",
            "     Epoch   gpu_mem       box       obj       cls    labels  img_size\n",
            "     25/59     0.64G    0.0652   0.04739   0.01678        18       640: 100% 22/22 [00:06<00:00,  3.53it/s]\n",
            "               Class     Images     Labels          P          R     mAP@.5 mAP@.5:.95: 100% 4/4 [00:00<00:00, 12.02it/s]\n",
            "                 all         14         83      0.545      0.279      0.263     0.0706\n",
            "\n",
            "     Epoch   gpu_mem       box       obj       cls    labels  img_size\n",
            "     26/59     0.64G   0.05307   0.03787   0.01414         6       640: 100% 22/22 [00:06<00:00,  3.54it/s]\n",
            "               Class     Images     Labels          P          R     mAP@.5 mAP@.5:.95: 100% 4/4 [00:00<00:00, 11.70it/s]\n",
            "                 all         14         83      0.397      0.321      0.252     0.0622\n",
            "\n",
            "     Epoch   gpu_mem       box       obj       cls    labels  img_size\n",
            "     27/59     0.64G   0.06062   0.04128   0.01472         2       640: 100% 22/22 [00:06<00:00,  3.51it/s]\n",
            "               Class     Images     Labels          P          R     mAP@.5 mAP@.5:.95: 100% 4/4 [00:00<00:00, 11.82it/s]\n",
            "                 all         14         83      0.396      0.234      0.204     0.0794\n",
            "\n",
            "     Epoch   gpu_mem       box       obj       cls    labels  img_size\n",
            "     28/59     0.64G   0.06165   0.03484   0.01419         7       640: 100% 22/22 [00:06<00:00,  3.54it/s]\n",
            "               Class     Images     Labels          P          R     mAP@.5 mAP@.5:.95: 100% 4/4 [00:00<00:00, 11.45it/s]\n",
            "                 all         14         83      0.287      0.307      0.175     0.0465\n",
            "\n",
            "     Epoch   gpu_mem       box       obj       cls    labels  img_size\n",
            "     29/59     0.64G   0.06492   0.03848   0.01592        18       640: 100% 22/22 [00:06<00:00,  3.54it/s]\n",
            "               Class     Images     Labels          P          R     mAP@.5 mAP@.5:.95: 100% 4/4 [00:00<00:00, 11.79it/s]\n",
            "                 all         14         83       0.42      0.279      0.217     0.0563\n",
            "\n",
            "     Epoch   gpu_mem       box       obj       cls    labels  img_size\n",
            "     30/59     0.64G   0.05714   0.03942   0.01199         2       640: 100% 22/22 [00:06<00:00,  3.54it/s]\n",
            "               Class     Images     Labels          P          R     mAP@.5 mAP@.5:.95: 100% 4/4 [00:00<00:00, 12.13it/s]\n",
            "                 all         14         83      0.549      0.258      0.256      0.077\n",
            "\n",
            "     Epoch   gpu_mem       box       obj       cls    labels  img_size\n",
            "     31/59     0.64G   0.05759   0.03005   0.01413        10       640: 100% 22/22 [00:06<00:00,  3.52it/s]\n",
            "               Class     Images     Labels          P          R     mAP@.5 mAP@.5:.95: 100% 4/4 [00:00<00:00, 12.02it/s]\n",
            "                 all         14         83      0.351      0.272      0.233     0.0962\n",
            "\n",
            "     Epoch   gpu_mem       box       obj       cls    labels  img_size\n",
            "     32/59     0.64G   0.05942   0.04127   0.01386        10       640: 100% 22/22 [00:06<00:00,  3.53it/s]\n",
            "               Class     Images     Labels          P          R     mAP@.5 mAP@.5:.95: 100% 4/4 [00:00<00:00, 11.99it/s]\n",
            "                 all         14         83      0.369      0.258      0.242     0.0694\n",
            "\n",
            "     Epoch   gpu_mem       box       obj       cls    labels  img_size\n",
            "     33/59     0.64G   0.05609   0.02743  0.009731         7       640: 100% 22/22 [00:06<00:00,  3.56it/s]\n",
            "               Class     Images     Labels          P          R     mAP@.5 mAP@.5:.95: 100% 4/4 [00:00<00:00, 11.92it/s]\n",
            "                 all         14         83      0.369      0.258      0.242     0.0694\n",
            "\n",
            "     Epoch   gpu_mem       box       obj       cls    labels  img_size\n",
            "     34/59     0.64G   0.06603   0.02417   0.01312         6       640: 100% 22/22 [00:06<00:00,  3.50it/s]\n",
            "               Class     Images     Labels          P          R     mAP@.5 mAP@.5:.95: 100% 4/4 [00:00<00:00, 11.69it/s]\n",
            "                 all         14         83      0.288      0.272      0.231     0.0501\n",
            "\n",
            "     Epoch   gpu_mem       box       obj       cls    labels  img_size\n",
            "     35/59     0.64G   0.06636    0.0283   0.01065         4       640: 100% 22/22 [00:06<00:00,  3.54it/s]\n",
            "               Class     Images     Labels          P          R     mAP@.5 mAP@.5:.95: 100% 4/4 [00:00<00:00, 11.58it/s]\n",
            "                 all         14         83      0.282      0.285      0.189     0.0471\n",
            "\n",
            "     Epoch   gpu_mem       box       obj       cls    labels  img_size\n",
            "     36/59     0.64G    0.0671   0.03426   0.01222        11       640: 100% 22/22 [00:06<00:00,  3.51it/s]\n",
            "               Class     Images     Labels          P          R     mAP@.5 mAP@.5:.95: 100% 4/4 [00:00<00:00, 11.79it/s]\n",
            "                 all         14         83       0.44      0.237      0.226     0.0766\n",
            "\n",
            "     Epoch   gpu_mem       box       obj       cls    labels  img_size\n",
            "     37/59     0.64G   0.06627   0.04016    0.0127         7       640: 100% 22/22 [00:06<00:00,  3.56it/s]\n",
            "               Class     Images     Labels          P          R     mAP@.5 mAP@.5:.95: 100% 4/4 [00:00<00:00, 11.71it/s]\n",
            "                 all         14         83       0.42      0.242      0.226     0.0455\n",
            "\n",
            "     Epoch   gpu_mem       box       obj       cls    labels  img_size\n",
            "     38/59     0.64G   0.06048   0.03141   0.01184        21       640: 100% 22/22 [00:06<00:00,  3.52it/s]\n",
            "               Class     Images     Labels          P          R     mAP@.5 mAP@.5:.95: 100% 4/4 [00:00<00:00, 12.02it/s]\n",
            "                 all         14         83      0.564      0.203      0.184     0.0548\n",
            "\n",
            "     Epoch   gpu_mem       box       obj       cls    labels  img_size\n",
            "     39/59     0.64G   0.05739      0.03  0.009474         5       640: 100% 22/22 [00:06<00:00,  3.54it/s]\n",
            "               Class     Images     Labels          P          R     mAP@.5 mAP@.5:.95: 100% 4/4 [00:00<00:00, 11.97it/s]\n",
            "                 all         14         83      0.564      0.203      0.184     0.0548\n",
            "\n",
            "     Epoch   gpu_mem       box       obj       cls    labels  img_size\n",
            "     40/59     0.64G   0.06081   0.03493   0.01279         5       640: 100% 22/22 [00:06<00:00,  3.52it/s]\n",
            "               Class     Images     Labels          P          R     mAP@.5 mAP@.5:.95: 100% 4/4 [00:00<00:00, 11.63it/s]\n",
            "                 all         14         83      0.605      0.154      0.167     0.0501\n",
            "\n",
            "     Epoch   gpu_mem       box       obj       cls    labels  img_size\n",
            "     41/59     0.64G    0.0595   0.03239   0.01024         6       640: 100% 22/22 [00:06<00:00,  3.53it/s]\n",
            "               Class     Images     Labels          P          R     mAP@.5 mAP@.5:.95: 100% 4/4 [00:00<00:00, 11.71it/s]\n",
            "                 all         14         83      0.285      0.258      0.142     0.0485\n",
            "\n",
            "     Epoch   gpu_mem       box       obj       cls    labels  img_size\n",
            "     42/59     0.64G   0.06079   0.03539    0.0108        14       640: 100% 22/22 [00:06<00:00,  3.52it/s]\n",
            "               Class     Images     Labels          P          R     mAP@.5 mAP@.5:.95: 100% 4/4 [00:00<00:00, 11.92it/s]\n",
            "                 all         14         83      0.436      0.217      0.201     0.0593\n",
            "\n",
            "     Epoch   gpu_mem       box       obj       cls    labels  img_size\n",
            "     43/59     0.64G   0.05878   0.03448   0.01246        16       640: 100% 22/22 [00:06<00:00,  3.55it/s]\n",
            "               Class     Images     Labels          P          R     mAP@.5 mAP@.5:.95: 100% 4/4 [00:00<00:00, 11.71it/s]\n",
            "                 all         14         83      0.436      0.217      0.201     0.0593\n",
            "\n",
            "     Epoch   gpu_mem       box       obj       cls    labels  img_size\n",
            "     44/59     0.64G   0.04961   0.02906   0.01017        15       640: 100% 22/22 [00:06<00:00,  3.56it/s]\n",
            "               Class     Images     Labels          P          R     mAP@.5 mAP@.5:.95: 100% 4/4 [00:00<00:00, 11.77it/s]\n",
            "                 all         14         83      0.505      0.171      0.226     0.0641\n",
            "\n",
            "     Epoch   gpu_mem       box       obj       cls    labels  img_size\n",
            "     45/59     0.64G   0.05744   0.03314  0.009585        25       640: 100% 22/22 [00:06<00:00,  3.53it/s]\n",
            "               Class     Images     Labels          P          R     mAP@.5 mAP@.5:.95: 100% 4/4 [00:00<00:00, 11.82it/s]\n",
            "                 all         14         83      0.275      0.279      0.236     0.0829\n",
            "\n",
            "     Epoch   gpu_mem       box       obj       cls    labels  img_size\n",
            "     46/59     0.64G   0.05665   0.04253   0.01055        14       640: 100% 22/22 [00:06<00:00,  3.55it/s]\n",
            "               Class     Images     Labels          P          R     mAP@.5 mAP@.5:.95: 100% 4/4 [00:00<00:00, 11.60it/s]\n",
            "                 all         14         83      0.275      0.279      0.236     0.0829\n",
            "\n",
            "     Epoch   gpu_mem       box       obj       cls    labels  img_size\n",
            "     47/59     0.64G   0.05483   0.03963  0.009107         3       640: 100% 22/22 [00:06<00:00,  3.54it/s]\n",
            "               Class     Images     Labels          P          R     mAP@.5 mAP@.5:.95: 100% 4/4 [00:00<00:00, 11.41it/s]\n",
            "                 all         14         83      0.259      0.335      0.262     0.0823\n",
            "\n",
            "     Epoch   gpu_mem       box       obj       cls    labels  img_size\n",
            "     48/59     0.64G   0.05332   0.04482  0.009342         6       640: 100% 22/22 [00:06<00:00,  3.51it/s]\n",
            "               Class     Images     Labels          P          R     mAP@.5 mAP@.5:.95: 100% 4/4 [00:00<00:00, 12.14it/s]\n",
            "                 all         14         83      0.266      0.327      0.247     0.0778\n",
            "\n",
            "     Epoch   gpu_mem       box       obj       cls    labels  img_size\n",
            "     49/59     0.64G   0.05198   0.03704  0.009865        21       640: 100% 22/22 [00:06<00:00,  3.52it/s]\n",
            "               Class     Images     Labels          P          R     mAP@.5 mAP@.5:.95: 100% 4/4 [00:00<00:00, 12.06it/s]\n",
            "                 all         14         83       0.27      0.348       0.24     0.0754\n",
            "\n",
            "     Epoch   gpu_mem       box       obj       cls    labels  img_size\n",
            "     50/59     0.64G   0.04293   0.02593  0.007652         3       640: 100% 22/22 [00:06<00:00,  3.58it/s]\n",
            "               Class     Images     Labels          P          R     mAP@.5 mAP@.5:.95: 100% 4/4 [00:00<00:00, 12.31it/s]\n",
            "                 all         14         83       0.27      0.348       0.24     0.0754\n",
            "\n",
            "     Epoch   gpu_mem       box       obj       cls    labels  img_size\n",
            "     51/59     0.64G   0.04933   0.03523   0.01093         3       640: 100% 22/22 [00:06<00:00,  3.54it/s]\n",
            "               Class     Images     Labels          P          R     mAP@.5 mAP@.5:.95: 100% 4/4 [00:00<00:00, 12.36it/s]\n",
            "                 all         14         83      0.271      0.312      0.219     0.0813\n",
            "\n",
            "     Epoch   gpu_mem       box       obj       cls    labels  img_size\n",
            "     52/59     0.64G   0.04995   0.03364  0.008935         6       640: 100% 22/22 [00:06<00:00,  3.52it/s]\n",
            "               Class     Images     Labels          P          R     mAP@.5 mAP@.5:.95: 100% 4/4 [00:00<00:00, 12.32it/s]\n",
            "                 all         14         83      0.273      0.348      0.304     0.0993\n",
            "\n",
            "     Epoch   gpu_mem       box       obj       cls    labels  img_size\n",
            "     53/59     0.64G   0.04821   0.04049  0.009214         0       640: 100% 22/22 [00:06<00:00,  3.57it/s]\n",
            "               Class     Images     Labels          P          R     mAP@.5 mAP@.5:.95: 100% 4/4 [00:00<00:00, 11.82it/s]\n",
            "                 all         14         83      0.273      0.348      0.304     0.0993\n",
            "\n",
            "     Epoch   gpu_mem       box       obj       cls    labels  img_size\n",
            "     54/59     0.64G   0.04615   0.03266  0.009559         5       640: 100% 22/22 [00:06<00:00,  3.54it/s]\n",
            "               Class     Images     Labels          P          R     mAP@.5 mAP@.5:.95: 100% 4/4 [00:00<00:00, 11.94it/s]\n",
            "                 all         14         83      0.471      0.211      0.293      0.129\n",
            "\n",
            "     Epoch   gpu_mem       box       obj       cls    labels  img_size\n",
            "     55/59     0.64G   0.05173    0.0361   0.01199        24       640: 100% 22/22 [00:06<00:00,  3.51it/s]\n",
            "               Class     Images     Labels          P          R     mAP@.5 mAP@.5:.95: 100% 4/4 [00:00<00:00, 12.39it/s]\n",
            "                 all         14         83        0.9       0.19      0.318     0.0949\n",
            "\n",
            "     Epoch   gpu_mem       box       obj       cls    labels  img_size\n",
            "     56/59     0.64G   0.04745   0.03636  0.008978         4       640: 100% 22/22 [00:06<00:00,  3.54it/s]\n",
            "               Class     Images     Labels          P          R     mAP@.5 mAP@.5:.95: 100% 4/4 [00:00<00:00, 12.05it/s]\n",
            "                 all         14         83        0.9       0.19      0.318     0.0949\n",
            "\n",
            "     Epoch   gpu_mem       box       obj       cls    labels  img_size\n",
            "     57/59     0.64G   0.05538   0.03368  0.009487         6       640: 100% 22/22 [00:06<00:00,  3.52it/s]\n",
            "               Class     Images     Labels          P          R     mAP@.5 mAP@.5:.95: 100% 4/4 [00:00<00:00, 12.13it/s]\n",
            "                 all         14         83      0.425       0.23      0.301     0.0888\n",
            "\n",
            "     Epoch   gpu_mem       box       obj       cls    labels  img_size\n",
            "     58/59     0.64G   0.04384   0.03363  0.008439        15       640: 100% 22/22 [00:06<00:00,  3.54it/s]\n",
            "               Class     Images     Labels          P          R     mAP@.5 mAP@.5:.95: 100% 4/4 [00:00<00:00, 12.29it/s]\n",
            "                 all         14         83      0.412      0.286      0.318     0.0992\n",
            "\n",
            "     Epoch   gpu_mem       box       obj       cls    labels  img_size\n",
            "     59/59     0.64G   0.05136   0.04138   0.01024        10       640: 100% 22/22 [00:06<00:00,  3.54it/s]\n",
            "               Class     Images     Labels          P          R     mAP@.5 mAP@.5:.95: 100% 4/4 [00:00<00:00, 12.19it/s]\n",
            "                 all         14         83      0.412      0.286      0.318     0.0992\n",
            "\n",
            "60 epochs completed in 0.120 hours.\n",
            "Optimizer stripped from runs/train/exp3/weights/last.pt, 14.4MB\n",
            "Optimizer stripped from runs/train/exp3/weights/best.pt, 14.4MB\n",
            "\n",
            "Validating runs/train/exp3/weights/best.pt...\n",
            "Fusing layers... \n",
            "Model Summary: 213 layers, 7015519 parameters, 0 gradients, 15.8 GFLOPs\n",
            "               Class     Images     Labels          P          R     mAP@.5 mAP@.5:.95: 100% 4/4 [00:00<00:00,  4.71it/s]\n",
            "                 all         14         83      0.473      0.215      0.292      0.129\n",
            "           cockroach         14         72       0.61     0.0656      0.274     0.0862\n",
            "       cockroach egg         14         11      0.335      0.364       0.31      0.172\n",
            "Results saved to \u001b[1mruns/train/exp3\u001b[0m\n"
          ]
        }
      ]
    }
  ]
}