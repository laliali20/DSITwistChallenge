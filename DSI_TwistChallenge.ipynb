{
  "nbformat": 4,
  "nbformat_minor": 0,
  "metadata": {
    "colab": {
      "name": "DSI_TwistChallenge.ipynb",
      "provenance": [],
      "mount_file_id": "17yS6LXBqDGct7uZTiEtPKKLJcqISkUgn",
      "authorship_tag": "ABX9TyN6dKdoGrzBsNWCLyHHRP/m",
      "include_colab_link": true
    },
    "kernelspec": {
      "name": "python3",
      "display_name": "Python 3"
    },
    "language_info": {
      "name": "python"
    },
    "accelerator": "GPU"
  },
  "cells": [
    {
      "cell_type": "markdown",
      "metadata": {
        "id": "view-in-github",
        "colab_type": "text"
      },
      "source": [
        "<a href=\"https://colab.research.google.com/github/laliali20/DSITwistChallenge/blob/main/DSI_TwistChallenge.ipynb\" target=\"_parent\"><img src=\"https://colab.research.google.com/assets/colab-badge.svg\" alt=\"Open In Colab\"/></a>"
      ]
    },
    {
      "cell_type": "markdown",
      "source": [
        "# Project Description and Scope\n",
        "\n",
        "The project is based on a common household problem regarding harmful insects. Very often, insects such as cockroaches are able to breed in certain parts of most houses and often reach a point of infestation by the time they are even noticed. During this period, they might be accesssing food cabinets and worktops among other areas which could easily result in spreading of diseases. Cockroaches tend to come out of their hiding areas in search of food during the night and are often unseen during the day. If seen during the day, this might be a sign of a huge infestation. To prevent this, being able to detect them at an earlier point could help get rid if them a little quicker and possibly more cost-effectively. The purpose of this project is to build a model that can easily detect them out of the cracks and crevices as accurately as possible. In a case like this the f2 score could be an important measure in order to minimize the number that is missed."
      ],
      "metadata": {
        "id": "iNQnqvguYCbs"
      }
    },
    {
      "cell_type": "markdown",
      "source": [
        "# Web Scrapping\n",
        "\n",
        "To start off the project, a collection of images to train the model are obtained through web scrapping. Tools such as Selenium are used to source the images while the os package is used to save these image in a form that can be used. The images were manually annotated and labelled then later used in the project as input into the training model"
      ],
      "metadata": {
        "id": "TTbhDQHCYG3s"
      }
    },
    {
      "cell_type": "code",
      "source": [
        "pip install BeautifulSoup4"
      ],
      "metadata": {
        "colab": {
          "base_uri": "https://localhost:8080/"
        },
        "id": "5ScuJPXQYNBt",
        "outputId": "1ad999a6-da37-4fab-a156-c0c3e37d570b"
      },
      "execution_count": null,
      "outputs": [
        {
          "output_type": "stream",
          "name": "stdout",
          "text": [
            "Requirement already satisfied: BeautifulSoup4 in /usr/local/lib/python3.7/dist-packages (4.6.3)\n"
          ]
        }
      ]
    },
    {
      "cell_type": "code",
      "source": [
        "!pip install selenium"
      ],
      "metadata": {
        "colab": {
          "base_uri": "https://localhost:8080/"
        },
        "id": "izddp5va64m2",
        "outputId": "88e017f3-755a-43b0-ae44-145fcdeecc1e"
      },
      "execution_count": null,
      "outputs": [
        {
          "output_type": "stream",
          "name": "stdout",
          "text": [
            "Collecting selenium\n",
            "  Downloading selenium-4.1.0-py3-none-any.whl (958 kB)\n",
            "\u001b[?25l\r\u001b[K     |▍                               | 10 kB 18.8 MB/s eta 0:00:01\r\u001b[K     |▊                               | 20 kB 23.8 MB/s eta 0:00:01\r\u001b[K     |█                               | 30 kB 28.6 MB/s eta 0:00:01\r\u001b[K     |█▍                              | 40 kB 32.3 MB/s eta 0:00:01\r\u001b[K     |█▊                              | 51 kB 34.6 MB/s eta 0:00:01\r\u001b[K     |██                              | 61 kB 36.4 MB/s eta 0:00:01\r\u001b[K     |██▍                             | 71 kB 28.4 MB/s eta 0:00:01\r\u001b[K     |██▊                             | 81 kB 30.0 MB/s eta 0:00:01\r\u001b[K     |███                             | 92 kB 29.1 MB/s eta 0:00:01\r\u001b[K     |███▍                            | 102 kB 30.7 MB/s eta 0:00:01\r\u001b[K     |███▊                            | 112 kB 30.7 MB/s eta 0:00:01\r\u001b[K     |████                            | 122 kB 30.7 MB/s eta 0:00:01\r\u001b[K     |████▍                           | 133 kB 30.7 MB/s eta 0:00:01\r\u001b[K     |████▉                           | 143 kB 30.7 MB/s eta 0:00:01\r\u001b[K     |█████▏                          | 153 kB 30.7 MB/s eta 0:00:01\r\u001b[K     |█████▌                          | 163 kB 30.7 MB/s eta 0:00:01\r\u001b[K     |█████▉                          | 174 kB 30.7 MB/s eta 0:00:01\r\u001b[K     |██████▏                         | 184 kB 30.7 MB/s eta 0:00:01\r\u001b[K     |██████▌                         | 194 kB 30.7 MB/s eta 0:00:01\r\u001b[K     |██████▉                         | 204 kB 30.7 MB/s eta 0:00:01\r\u001b[K     |███████▏                        | 215 kB 30.7 MB/s eta 0:00:01\r\u001b[K     |███████▌                        | 225 kB 30.7 MB/s eta 0:00:01\r\u001b[K     |███████▉                        | 235 kB 30.7 MB/s eta 0:00:01\r\u001b[K     |████████▏                       | 245 kB 30.7 MB/s eta 0:00:01\r\u001b[K     |████████▌                       | 256 kB 30.7 MB/s eta 0:00:01\r\u001b[K     |████████▉                       | 266 kB 30.7 MB/s eta 0:00:01\r\u001b[K     |█████████▎                      | 276 kB 30.7 MB/s eta 0:00:01\r\u001b[K     |█████████▋                      | 286 kB 30.7 MB/s eta 0:00:01\r\u001b[K     |██████████                      | 296 kB 30.7 MB/s eta 0:00:01\r\u001b[K     |██████████▎                     | 307 kB 30.7 MB/s eta 0:00:01\r\u001b[K     |██████████▋                     | 317 kB 30.7 MB/s eta 0:00:01\r\u001b[K     |███████████                     | 327 kB 30.7 MB/s eta 0:00:01\r\u001b[K     |███████████▎                    | 337 kB 30.7 MB/s eta 0:00:01\r\u001b[K     |███████████▋                    | 348 kB 30.7 MB/s eta 0:00:01\r\u001b[K     |████████████                    | 358 kB 30.7 MB/s eta 0:00:01\r\u001b[K     |████████████▎                   | 368 kB 30.7 MB/s eta 0:00:01\r\u001b[K     |████████████▋                   | 378 kB 30.7 MB/s eta 0:00:01\r\u001b[K     |█████████████                   | 389 kB 30.7 MB/s eta 0:00:01\r\u001b[K     |█████████████▎                  | 399 kB 30.7 MB/s eta 0:00:01\r\u001b[K     |█████████████▊                  | 409 kB 30.7 MB/s eta 0:00:01\r\u001b[K     |██████████████                  | 419 kB 30.7 MB/s eta 0:00:01\r\u001b[K     |██████████████▍                 | 430 kB 30.7 MB/s eta 0:00:01\r\u001b[K     |██████████████▊                 | 440 kB 30.7 MB/s eta 0:00:01\r\u001b[K     |███████████████                 | 450 kB 30.7 MB/s eta 0:00:01\r\u001b[K     |███████████████▍                | 460 kB 30.7 MB/s eta 0:00:01\r\u001b[K     |███████████████▊                | 471 kB 30.7 MB/s eta 0:00:01\r\u001b[K     |████████████████                | 481 kB 30.7 MB/s eta 0:00:01\r\u001b[K     |████████████████▍               | 491 kB 30.7 MB/s eta 0:00:01\r\u001b[K     |████████████████▊               | 501 kB 30.7 MB/s eta 0:00:01\r\u001b[K     |█████████████████               | 512 kB 30.7 MB/s eta 0:00:01\r\u001b[K     |█████████████████▍              | 522 kB 30.7 MB/s eta 0:00:01\r\u001b[K     |█████████████████▊              | 532 kB 30.7 MB/s eta 0:00:01\r\u001b[K     |██████████████████▏             | 542 kB 30.7 MB/s eta 0:00:01\r\u001b[K     |██████████████████▌             | 552 kB 30.7 MB/s eta 0:00:01\r\u001b[K     |██████████████████▉             | 563 kB 30.7 MB/s eta 0:00:01\r\u001b[K     |███████████████████▏            | 573 kB 30.7 MB/s eta 0:00:01\r\u001b[K     |███████████████████▌            | 583 kB 30.7 MB/s eta 0:00:01\r\u001b[K     |███████████████████▉            | 593 kB 30.7 MB/s eta 0:00:01\r\u001b[K     |████████████████████▏           | 604 kB 30.7 MB/s eta 0:00:01\r\u001b[K     |████████████████████▌           | 614 kB 30.7 MB/s eta 0:00:01\r\u001b[K     |████████████████████▉           | 624 kB 30.7 MB/s eta 0:00:01\r\u001b[K     |█████████████████████▏          | 634 kB 30.7 MB/s eta 0:00:01\r\u001b[K     |█████████████████████▌          | 645 kB 30.7 MB/s eta 0:00:01\r\u001b[K     |█████████████████████▉          | 655 kB 30.7 MB/s eta 0:00:01\r\u001b[K     |██████████████████████▏         | 665 kB 30.7 MB/s eta 0:00:01\r\u001b[K     |██████████████████████▋         | 675 kB 30.7 MB/s eta 0:00:01\r\u001b[K     |███████████████████████         | 686 kB 30.7 MB/s eta 0:00:01\r\u001b[K     |███████████████████████▎        | 696 kB 30.7 MB/s eta 0:00:01\r\u001b[K     |███████████████████████▋        | 706 kB 30.7 MB/s eta 0:00:01\r\u001b[K     |████████████████████████        | 716 kB 30.7 MB/s eta 0:00:01\r\u001b[K     |████████████████████████▎       | 727 kB 30.7 MB/s eta 0:00:01\r\u001b[K     |████████████████████████▋       | 737 kB 30.7 MB/s eta 0:00:01\r\u001b[K     |█████████████████████████       | 747 kB 30.7 MB/s eta 0:00:01\r\u001b[K     |█████████████████████████▎      | 757 kB 30.7 MB/s eta 0:00:01\r\u001b[K     |█████████████████████████▋      | 768 kB 30.7 MB/s eta 0:00:01\r\u001b[K     |██████████████████████████      | 778 kB 30.7 MB/s eta 0:00:01\r\u001b[K     |██████████████████████████▎     | 788 kB 30.7 MB/s eta 0:00:01\r\u001b[K     |██████████████████████████▋     | 798 kB 30.7 MB/s eta 0:00:01\r\u001b[K     |███████████████████████████     | 808 kB 30.7 MB/s eta 0:00:01\r\u001b[K     |███████████████████████████▍    | 819 kB 30.7 MB/s eta 0:00:01\r\u001b[K     |███████████████████████████▊    | 829 kB 30.7 MB/s eta 0:00:01\r\u001b[K     |████████████████████████████    | 839 kB 30.7 MB/s eta 0:00:01\r\u001b[K     |████████████████████████████▍   | 849 kB 30.7 MB/s eta 0:00:01\r\u001b[K     |████████████████████████████▊   | 860 kB 30.7 MB/s eta 0:00:01\r\u001b[K     |█████████████████████████████   | 870 kB 30.7 MB/s eta 0:00:01\r\u001b[K     |█████████████████████████████▍  | 880 kB 30.7 MB/s eta 0:00:01\r\u001b[K     |█████████████████████████████▊  | 890 kB 30.7 MB/s eta 0:00:01\r\u001b[K     |██████████████████████████████  | 901 kB 30.7 MB/s eta 0:00:01\r\u001b[K     |██████████████████████████████▍ | 911 kB 30.7 MB/s eta 0:00:01\r\u001b[K     |██████████████████████████████▊ | 921 kB 30.7 MB/s eta 0:00:01\r\u001b[K     |███████████████████████████████ | 931 kB 30.7 MB/s eta 0:00:01\r\u001b[K     |███████████████████████████████▍| 942 kB 30.7 MB/s eta 0:00:01\r\u001b[K     |███████████████████████████████▉| 952 kB 30.7 MB/s eta 0:00:01\r\u001b[K     |████████████████████████████████| 958 kB 30.7 MB/s \n",
            "\u001b[?25hCollecting trio-websocket~=0.9\n",
            "  Downloading trio_websocket-0.9.2-py3-none-any.whl (16 kB)\n",
            "Collecting trio~=0.17\n",
            "  Downloading trio-0.19.0-py3-none-any.whl (356 kB)\n",
            "\u001b[K     |████████████████████████████████| 356 kB 63.4 MB/s \n",
            "\u001b[?25hCollecting urllib3[secure]~=1.26\n",
            "  Downloading urllib3-1.26.8-py2.py3-none-any.whl (138 kB)\n",
            "\u001b[K     |████████████████████████████████| 138 kB 54.6 MB/s \n",
            "\u001b[?25hRequirement already satisfied: sortedcontainers in /usr/local/lib/python3.7/dist-packages (from trio~=0.17->selenium) (2.4.0)\n",
            "Collecting sniffio\n",
            "  Downloading sniffio-1.2.0-py3-none-any.whl (10 kB)\n",
            "Requirement already satisfied: idna in /usr/local/lib/python3.7/dist-packages (from trio~=0.17->selenium) (2.10)\n",
            "Requirement already satisfied: attrs>=19.2.0 in /usr/local/lib/python3.7/dist-packages (from trio~=0.17->selenium) (21.4.0)\n",
            "Collecting async-generator>=1.9\n",
            "  Downloading async_generator-1.10-py3-none-any.whl (18 kB)\n",
            "Collecting outcome\n",
            "  Downloading outcome-1.1.0-py2.py3-none-any.whl (9.7 kB)\n",
            "Collecting wsproto>=0.14\n",
            "  Downloading wsproto-1.0.0-py3-none-any.whl (24 kB)\n",
            "Requirement already satisfied: certifi in /usr/local/lib/python3.7/dist-packages (from urllib3[secure]~=1.26->selenium) (2021.10.8)\n",
            "Collecting pyOpenSSL>=0.14\n",
            "  Downloading pyOpenSSL-22.0.0-py2.py3-none-any.whl (55 kB)\n",
            "\u001b[K     |████████████████████████████████| 55 kB 3.7 MB/s \n",
            "\u001b[?25hCollecting cryptography>=1.3.4\n",
            "  Downloading cryptography-36.0.1-cp36-abi3-manylinux_2_24_x86_64.whl (3.6 MB)\n",
            "\u001b[K     |████████████████████████████████| 3.6 MB 30.6 MB/s \n",
            "\u001b[?25hRequirement already satisfied: cffi>=1.12 in /usr/local/lib/python3.7/dist-packages (from cryptography>=1.3.4->urllib3[secure]~=1.26->selenium) (1.15.0)\n",
            "Requirement already satisfied: pycparser in /usr/local/lib/python3.7/dist-packages (from cffi>=1.12->cryptography>=1.3.4->urllib3[secure]~=1.26->selenium) (2.21)\n",
            "Collecting h11<1,>=0.9.0\n",
            "  Downloading h11-0.13.0-py3-none-any.whl (58 kB)\n",
            "\u001b[K     |████████████████████████████████| 58 kB 6.1 MB/s \n",
            "\u001b[?25hRequirement already satisfied: typing-extensions in /usr/local/lib/python3.7/dist-packages (from h11<1,>=0.9.0->wsproto>=0.14->trio-websocket~=0.9->selenium) (3.10.0.2)\n",
            "Installing collected packages: sniffio, outcome, h11, cryptography, async-generator, wsproto, urllib3, trio, pyOpenSSL, trio-websocket, selenium\n",
            "  Attempting uninstall: urllib3\n",
            "    Found existing installation: urllib3 1.24.3\n",
            "    Uninstalling urllib3-1.24.3:\n",
            "      Successfully uninstalled urllib3-1.24.3\n",
            "\u001b[31mERROR: pip's dependency resolver does not currently take into account all the packages that are installed. This behaviour is the source of the following dependency conflicts.\n",
            "requests 2.23.0 requires urllib3!=1.25.0,!=1.25.1,<1.26,>=1.21.1, but you have urllib3 1.26.8 which is incompatible.\n",
            "datascience 0.10.6 requires folium==0.2.1, but you have folium 0.8.3 which is incompatible.\u001b[0m\n",
            "Successfully installed async-generator-1.10 cryptography-36.0.1 h11-0.13.0 outcome-1.1.0 pyOpenSSL-22.0.0 selenium-4.1.0 sniffio-1.2.0 trio-0.19.0 trio-websocket-0.9.2 urllib3-1.26.8 wsproto-1.0.0\n"
          ]
        }
      ]
    },
    {
      "cell_type": "code",
      "source": [
        "from bs4 import BeautifulSoup"
      ],
      "metadata": {
        "id": "npzts-CYYe60"
      },
      "execution_count": null,
      "outputs": []
    },
    {
      "cell_type": "code",
      "source": [
        "import requests"
      ],
      "metadata": {
        "colab": {
          "base_uri": "https://localhost:8080/"
        },
        "id": "e4ue1D6dZ8KF",
        "outputId": "1af0c532-2529-43cb-8cf5-1cdba369c282"
      },
      "execution_count": null,
      "outputs": [
        {
          "output_type": "stream",
          "name": "stderr",
          "text": [
            "/usr/local/lib/python3.7/dist-packages/requests/__init__.py:91: RequestsDependencyWarning: urllib3 (1.26.8) or chardet (3.0.4) doesn't match a supported version!\n",
            "  RequestsDependencyWarning)\n"
          ]
        }
      ]
    },
    {
      "cell_type": "code",
      "source": [
        "import requests\n",
        "from bs4 import BeautifulSoup\n",
        "import os\n",
        "import selenium"
      ],
      "metadata": {
        "id": "9Gbpy14pwMZD"
      },
      "execution_count": null,
      "outputs": []
    },
    {
      "cell_type": "code",
      "source": [
        "!pip install kora -q"
      ],
      "metadata": {
        "colab": {
          "base_uri": "https://localhost:8080/"
        },
        "id": "5euHrDB_CTh8",
        "outputId": "3b3d3a4c-bbe3-4690-89ae-267b7f2222ad"
      },
      "execution_count": null,
      "outputs": [
        {
          "output_type": "stream",
          "name": "stdout",
          "text": [
            "\u001b[K     |████████████████████████████████| 57 kB 4.0 MB/s \n",
            "\u001b[K     |████████████████████████████████| 56 kB 4.2 MB/s \n",
            "\u001b[?25h"
          ]
        }
      ]
    },
    {
      "cell_type": "code",
      "source": [
        "from selenium import webdriver\n",
        "from selenium.webdriver.common.by import By\n",
        "import requests\n",
        "import io\n",
        "from PIL import Image\n",
        "import time\n",
        "from kora.selenium import wd\n",
        "\n",
        "# PATH = \"/content/chromedriver.exe\"\n",
        "\n",
        "# wd = webdriver.Chrome()\n",
        "\n",
        "def get_images_from_google(wd, delay, max_images):\n",
        "\tdef scroll_down(wd):\n",
        "\t\twd.execute_script(\"window.scrollTo(0, document.body.scrollHeight);\")\n",
        "\t\ttime.sleep(delay)\n",
        "\n",
        "\turl = \"https://www.google.com/search?q=cockroach+eggs+images+at+home&source=lnms&tbm=isch&sa=X&ved=2ahUKEwipkLPum_b1AhWvdt8KHbDwDusQ_AUoAXoECAEQAw&biw=1366&bih=663&dpr=1\"\n",
        "\twd.get(url)\n",
        "\n",
        "\timage_urls = set()\n",
        "\tskips = 0\n",
        "\n",
        "\twhile len(image_urls) + skips < max_images:\n",
        "\t\tscroll_down(wd)\n",
        "\n",
        "\t\tthumbnails = wd.find_elements(By.CLASS_NAME, \"Q4LuWd\")\n",
        "\n",
        "\t\tfor img in thumbnails[len(image_urls) + skips:max_images]:\n",
        "\t\t\ttry:\n",
        "\t\t\t\timg.click()\n",
        "\t\t\t\ttime.sleep(delay)\n",
        "\t\t\texcept:\n",
        "\t\t\t\tcontinue\n",
        "\n",
        "\t\t\timages = wd.find_elements(By.CLASS_NAME, \"n3VNCb\")\n",
        "\t\t\tfor image in images:\n",
        "\t\t\t\tif image.get_attribute('src') in image_urls:\n",
        "\t\t\t\t\tmax_images += 1\n",
        "\t\t\t\t\tskips += 1\n",
        "\t\t\t\t\tbreak\n",
        "\n",
        "\t\t\t\tif image.get_attribute('src') and 'http' in image.get_attribute('src'):\n",
        "\t\t\t\t\timage_urls.add(image.get_attribute('src'))\n",
        "\t\t\t\t\tprint(f\"Found {len(image_urls)}\")\n",
        "\n",
        "\treturn image_urls\n",
        "\n",
        "\n",
        "def download_image(download_path, url, file_name):\n",
        "\ttry:\n",
        "\t\timage_content = requests.get(url).content\n",
        "\t\timage_file = io.BytesIO(image_content)\n",
        "\t\timage = Image.open(image_file)\n",
        "\t\tfile_path = download_path + file_name\n",
        "\n",
        "\t\twith open(file_path, \"wb\") as f:\n",
        "\t\t\timage.save(f, \"JPEG\")\n",
        "\n",
        "\t\tprint(\"Success\")\n",
        "\texcept Exception as e:\n",
        "\t\tprint('FAILED -', e)\n",
        "\n",
        "urls = get_images_from_google(wd, 1, 31)\n",
        "\n",
        "for i, url in enumerate(urls):\n",
        "\tdownload_image(\"/content/Images/\", url, str(i) +  \"egg\" + \".jpg\")\n",
        "\n",
        "wd.quit()"
      ],
      "metadata": {
        "colab": {
          "base_uri": "https://localhost:8080/"
        },
        "id": "rnDb0SGYAZg5",
        "outputId": "6982a936-185c-4111-a566-4582c8ef9c4f"
      },
      "execution_count": null,
      "outputs": [
        {
          "output_type": "stream",
          "name": "stdout",
          "text": [
            "Found 1\n",
            "Found 2\n",
            "Found 3\n",
            "Found 4\n",
            "Found 5\n",
            "Found 6\n",
            "Found 7\n",
            "Found 8\n",
            "Found 9\n",
            "Found 10\n",
            "Found 11\n",
            "Found 12\n",
            "Found 13\n",
            "Found 14\n",
            "Found 15\n",
            "Found 16\n",
            "Found 17\n",
            "Found 18\n",
            "Found 19\n",
            "Found 20\n",
            "Found 21\n",
            "Found 22\n",
            "Found 23\n",
            "Found 24\n",
            "Found 25\n",
            "Found 26\n",
            "Found 27\n",
            "Found 28\n",
            "Found 29\n",
            "Found 30\n",
            "Found 31\n",
            "Found 32\n",
            "FAILED - cannot identify image file <_io.BytesIO object at 0x7f2d75b02170>\n",
            "Success\n",
            "Success\n",
            "Success\n",
            "Success\n",
            "Success\n",
            "FAILED - cannot identify image file <_io.BytesIO object at 0x7f2d7547ee90>\n",
            "Success\n",
            "FAILED - cannot write mode P as JPEG\n",
            "Success\n",
            "Success\n",
            "Success\n",
            "Success\n",
            "Success\n",
            "Success\n",
            "Success\n",
            "FAILED - cannot identify image file <_io.BytesIO object at 0x7f2d7549b710>\n",
            "Success\n",
            "Success\n",
            "Success\n",
            "Success\n",
            "Success\n",
            "Success\n",
            "Success\n",
            "Success\n",
            "Success\n",
            "Success\n",
            "Success\n",
            "Success\n",
            "FAILED - cannot write mode P as JPEG\n",
            "Success\n",
            "Success\n"
          ]
        }
      ]
    },
    {
      "cell_type": "code",
      "source": [
        "!pwd"
      ],
      "metadata": {
        "colab": {
          "base_uri": "https://localhost:8080/"
        },
        "id": "YXjtnXZDNB4n",
        "outputId": "988052fc-4cb4-4752-855c-48cc45779a94"
      },
      "execution_count": null,
      "outputs": [
        {
          "output_type": "stream",
          "name": "stdout",
          "text": [
            "/content\n"
          ]
        }
      ]
    },
    {
      "cell_type": "code",
      "source": [
        "!pwd"
      ],
      "metadata": {
        "colab": {
          "base_uri": "https://localhost:8080/"
        },
        "id": "D6PHZHxpOet4",
        "outputId": "3eb68ee6-4b71-425e-f530-7ef6d474eedb"
      },
      "execution_count": null,
      "outputs": [
        {
          "output_type": "stream",
          "name": "stdout",
          "text": [
            "/content\n"
          ]
        }
      ]
    },
    {
      "cell_type": "code",
      "source": [
        "!pwd"
      ],
      "metadata": {
        "colab": {
          "base_uri": "https://localhost:8080/"
        },
        "id": "8X0Fh5e5OlJg",
        "outputId": "01103162-d122-4b5b-aa9b-19c7e75ca5ee"
      },
      "execution_count": null,
      "outputs": [
        {
          "output_type": "stream",
          "name": "stdout",
          "text": [
            "/content\n"
          ]
        }
      ]
    },
    {
      "cell_type": "code",
      "source": [
        "!cd Images/"
      ],
      "metadata": {
        "id": "Tj-v4Qj4Ovqt"
      },
      "execution_count": null,
      "outputs": []
    },
    {
      "cell_type": "code",
      "source": [
        "!ls -a"
      ],
      "metadata": {
        "colab": {
          "base_uri": "https://localhost:8080/"
        },
        "id": "CflUcsYqO3v-",
        "outputId": "71ac58ea-4ccd-4db9-efb2-ed2e3d77228c"
      },
      "execution_count": null,
      "outputs": [
        {
          "output_type": "stream",
          "name": "stdout",
          "text": [
            ".  ..  .config\tImages\t.ipynb_checkpoints  sample_data\n"
          ]
        }
      ]
    },
    {
      "cell_type": "code",
      "source": [
        "!mkdir /content/drive/MyDrive/Twist/"
      ],
      "metadata": {
        "id": "U9Mqyi_2Ppuk"
      },
      "execution_count": null,
      "outputs": []
    },
    {
      "cell_type": "code",
      "source": [
        "!mv /content/Images/ /content/drive/MyDrive/Twist"
      ],
      "metadata": {
        "id": "ZiOFc-KXPeGm"
      },
      "execution_count": null,
      "outputs": []
    },
    {
      "cell_type": "markdown",
      "metadata": {
        "id": "7mGmQbAO5pQb"
      },
      "source": [
        "# Model and Training\n",
        "\n",
        "\n",
        "<p align=\"\"><a href=\"https://roboflow.com/?ref=ultralytics\"><img width=\"1000\" src=\"https://uploads-ssl.webflow.com/5f6bc60e665f54545a1e52a5/615627e5824c9c6195abfda9_computer-vision-cycle.png\"/></a></p>\n",
        "<br><br>\n",
        "\n",
        "\n",
        "\n",
        "A pretrained model is obtained from the Yolov5 github page. This algorithm is selected due to familiarity and time constraint. Training was done for 60 epochs. The MAP resulting from this model was significantly low, meaning the model was not learning. "
      ]
    },
    {
      "cell_type": "code",
      "metadata": {
        "id": "wbvMlHd_QwMG",
        "colab": {
          "base_uri": "https://localhost:8080/"
        },
        "outputId": "020e9dc2-d10a-4b4d-eea8-4b76954bcf77"
      },
      "source": [
        "!git clone https://github.com/ultralytics/yolov5  # clone\n",
        "%cd yolov5\n",
        "%pip install -qr requirements.txt  # install\n",
        "\n",
        "import torch\n",
        "from yolov5 import utils\n",
        "display = utils.notebook_init()  # checks"
      ],
      "execution_count": null,
      "outputs": [
        {
          "output_type": "stream",
          "name": "stderr",
          "text": [
            "YOLOv5 🚀 v6.0-248-gcb2ad9f torch 1.10.0+cu111 CUDA:0 (Tesla K80, 11441MiB)\n"
          ]
        },
        {
          "output_type": "stream",
          "name": "stdout",
          "text": [
            "Setup complete ✅ (2 CPUs, 12.7 GB RAM, 42.2/78.2 GB disk)\n"
          ]
        }
      ]
    },
    {
      "cell_type": "code",
      "metadata": {
        "id": "1NcFxRcFdJ_O",
        "colab": {
          "base_uri": "https://localhost:8080/"
        },
        "outputId": "dd120039-7116-45b4-fbf4-0b6d147b7ba3"
      },
      "source": [
        "# Train YOLOv5s on COCO128 for 3 epochs\n",
        "!python train.py --img 640 --batch 2 --epochs 60 --data cocodata128.yaml --weights yolov5s.pt --cache"
      ],
      "execution_count": null,
      "outputs": [
        {
          "output_type": "stream",
          "name": "stdout",
          "text": [
            "\u001b[34m\u001b[1mtrain: \u001b[0mweights=yolov5s.pt, cfg=, data=cocodata128.yaml, hyp=data/hyps/hyp.scratch.yaml, epochs=60, batch_size=2, imgsz=640, rect=False, resume=False, nosave=False, noval=False, noautoanchor=False, evolve=None, bucket=, cache=ram, image_weights=False, device=, multi_scale=False, single_cls=False, optimizer=SGD, sync_bn=False, workers=8, project=runs/train, name=exp, exist_ok=False, quad=False, linear_lr=False, label_smoothing=0.0, patience=100, freeze=[0], save_period=-1, local_rank=-1, entity=None, upload_dataset=False, bbox_interval=-1, artifact_alias=latest\n",
            "\u001b[34m\u001b[1mgithub: \u001b[0mup to date with https://github.com/ultralytics/yolov5 ✅\n",
            "YOLOv5 🚀 v6.0-248-gcb2ad9f torch 1.10.0+cu111 CUDA:0 (Tesla K80, 11441MiB)\n",
            "\n",
            "\u001b[34m\u001b[1mhyperparameters: \u001b[0mlr0=0.01, lrf=0.1, momentum=0.937, weight_decay=0.0005, warmup_epochs=3.0, warmup_momentum=0.8, warmup_bias_lr=0.1, box=0.05, cls=0.5, cls_pw=1.0, obj=1.0, obj_pw=1.0, iou_t=0.2, anchor_t=4.0, fl_gamma=0.0, hsv_h=0.015, hsv_s=0.7, hsv_v=0.4, degrees=0.0, translate=0.1, scale=0.5, shear=0.0, perspective=0.0, flipud=0.0, fliplr=0.5, mosaic=1.0, mixup=0.0, copy_paste=0.0\n",
            "\u001b[34m\u001b[1mWeights & Biases: \u001b[0mrun 'pip install wandb' to automatically track and visualize YOLOv5 🚀 runs (RECOMMENDED)\n",
            "\u001b[34m\u001b[1mTensorBoard: \u001b[0mStart with 'tensorboard --logdir runs/train', view at http://localhost:6006/\n",
            "Downloading https://github.com/ultralytics/yolov5/releases/download/v6.0/yolov5s.pt to yolov5s.pt...\n",
            "100% 14.0M/14.0M [00:00<00:00, 101MB/s] \n",
            "\n",
            "Overriding model.yaml nc=80 with nc=2\n",
            "\n",
            "                 from  n    params  module                                  arguments                     \n",
            "  0                -1  1      3520  models.common.Conv                      [3, 32, 6, 2, 2]              \n",
            "  1                -1  1     18560  models.common.Conv                      [32, 64, 3, 2]                \n",
            "  2                -1  1     18816  models.common.C3                        [64, 64, 1]                   \n",
            "  3                -1  1     73984  models.common.Conv                      [64, 128, 3, 2]               \n",
            "  4                -1  2    115712  models.common.C3                        [128, 128, 2]                 \n",
            "  5                -1  1    295424  models.common.Conv                      [128, 256, 3, 2]              \n",
            "  6                -1  3    625152  models.common.C3                        [256, 256, 3]                 \n",
            "  7                -1  1   1180672  models.common.Conv                      [256, 512, 3, 2]              \n",
            "  8                -1  1   1182720  models.common.C3                        [512, 512, 1]                 \n",
            "  9                -1  1    656896  models.common.SPPF                      [512, 512, 5]                 \n",
            " 10                -1  1    131584  models.common.Conv                      [512, 256, 1, 1]              \n",
            " 11                -1  1         0  torch.nn.modules.upsampling.Upsample    [None, 2, 'nearest']          \n",
            " 12           [-1, 6]  1         0  models.common.Concat                    [1]                           \n",
            " 13                -1  1    361984  models.common.C3                        [512, 256, 1, False]          \n",
            " 14                -1  1     33024  models.common.Conv                      [256, 128, 1, 1]              \n",
            " 15                -1  1         0  torch.nn.modules.upsampling.Upsample    [None, 2, 'nearest']          \n",
            " 16           [-1, 4]  1         0  models.common.Concat                    [1]                           \n",
            " 17                -1  1     90880  models.common.C3                        [256, 128, 1, False]          \n",
            " 18                -1  1    147712  models.common.Conv                      [128, 128, 3, 2]              \n",
            " 19          [-1, 14]  1         0  models.common.Concat                    [1]                           \n",
            " 20                -1  1    296448  models.common.C3                        [256, 256, 1, False]          \n",
            " 21                -1  1    590336  models.common.Conv                      [256, 256, 3, 2]              \n",
            " 22          [-1, 10]  1         0  models.common.Concat                    [1]                           \n",
            " 23                -1  1   1182720  models.common.C3                        [512, 512, 1, False]          \n",
            " 24      [17, 20, 23]  1     18879  models.yolo.Detect                      [2, [[10, 13, 16, 30, 33, 23], [30, 61, 62, 45, 59, 119], [116, 90, 156, 198, 373, 326]], [128, 256, 512]]\n",
            "Model Summary: 270 layers, 7025023 parameters, 7025023 gradients, 15.9 GFLOPs\n",
            "\n",
            "Transferred 343/349 items from yolov5s.pt\n",
            "Scaled weight_decay = 0.0005\n",
            "\u001b[34m\u001b[1moptimizer:\u001b[0m SGD with parameter groups 57 weight (no decay), 60 weight, 60 bias\n",
            "\u001b[34m\u001b[1malbumentations: \u001b[0mversion 1.0.3 required by YOLOv5, but version 0.1.12 is currently installed\n",
            "\u001b[34m\u001b[1mtrain: \u001b[0mScanning '/content/drive/MyDrive/Twist/train_data/labels/train.cache' images and labels... 30 found, 14 missing, 0 empty, 0 corrupt: 100% 44/44 [00:00<?, ?it/s]\n",
            "\u001b[34m\u001b[1mtrain: \u001b[0mCaching images (0.0GB ram): 100% 44/44 [00:21<00:00,  2.05it/s]\n",
            "\u001b[34m\u001b[1mval: \u001b[0mScanning '/content/drive/MyDrive/Twist/train_data/labels/val.cache' images and labels... 14 found, 0 missing, 0 empty, 2 corrupt: 100% 16/16 [00:00<?, ?it/s]\n",
            "\u001b[34m\u001b[1mval: \u001b[0mWARNING: /content/drive/MyDrive/Twist/train_data/images/val/29egg.jpg: ignoring corrupt image/label: cannot identify image file '/content/drive/MyDrive/Twist/train_data/images/val/29egg.jpg'\n",
            "\u001b[34m\u001b[1mval: \u001b[0mWARNING: /content/drive/MyDrive/Twist/train_data/images/val/8egg.jpg: ignoring corrupt image/label: cannot identify image file '/content/drive/MyDrive/Twist/train_data/images/val/8egg.jpg'\n",
            "\u001b[34m\u001b[1mval: \u001b[0mCaching images (0.0GB ram): 100% 14/14 [00:07<00:00,  1.86it/s]\n",
            "Plotting labels to runs/train/exp/labels.jpg... \n",
            "\n",
            "\u001b[34m\u001b[1mAutoAnchor: \u001b[0m4.79 anchors/target, 1.000 Best Possible Recall (BPR). Current anchors are a good fit to dataset ✅\n",
            "Image sizes 640 train, 640 val\n",
            "Using 2 dataloader workers\n",
            "Logging results to \u001b[1mruns/train/exp\u001b[0m\n",
            "Starting training for 60 epochs...\n",
            "\n",
            "     Epoch   gpu_mem       box       obj       cls    labels  img_size\n",
            "      0/59    0.497G    0.1044   0.03451   0.02567         8       640: 100% 22/22 [00:09<00:00,  2.42it/s]\n",
            "               Class     Images     Labels          P          R     mAP@.5 mAP@.5:.95: 100% 4/4 [00:00<00:00,  7.07it/s]\n",
            "                 all         14         83    0.00873     0.0941    0.00425     0.0008\n",
            "\n",
            "     Epoch   gpu_mem       box       obj       cls    labels  img_size\n",
            "      1/59     0.64G   0.09801   0.03489   0.02361        21       640: 100% 22/22 [00:06<00:00,  3.42it/s]\n",
            "               Class     Images     Labels          P          R     mAP@.5 mAP@.5:.95: 100% 4/4 [00:00<00:00,  7.32it/s]\n",
            "                 all         14         83     0.0318     0.0139    0.00546   0.000991\n",
            "\n",
            "     Epoch   gpu_mem       box       obj       cls    labels  img_size\n",
            "      2/59     0.64G   0.09497   0.03684   0.02374         2       640: 100% 22/22 [00:06<00:00,  3.46it/s]\n",
            "               Class     Images     Labels          P          R     mAP@.5 mAP@.5:.95: 100% 4/4 [00:00<00:00,  7.72it/s]\n",
            "                 all         14         83     0.0148     0.0556     0.0121    0.00232\n",
            "\n",
            "     Epoch   gpu_mem       box       obj       cls    labels  img_size\n",
            "      3/59     0.64G   0.09632   0.03518   0.02477         3       640: 100% 22/22 [00:06<00:00,  3.46it/s]\n",
            "               Class     Images     Labels          P          R     mAP@.5 mAP@.5:.95: 100% 4/4 [00:00<00:00,  8.16it/s]\n",
            "                 all         14         83     0.0725     0.0208     0.0147    0.00332\n",
            "\n",
            "     Epoch   gpu_mem       box       obj       cls    labels  img_size\n",
            "      4/59     0.64G   0.09619   0.03756   0.02371         5       640: 100% 22/22 [00:06<00:00,  3.51it/s]\n",
            "               Class     Images     Labels          P          R     mAP@.5 mAP@.5:.95: 100% 4/4 [00:00<00:00,  8.66it/s]\n",
            "                 all         14         83     0.0867     0.0278     0.0177    0.00413\n",
            "\n",
            "     Epoch   gpu_mem       box       obj       cls    labels  img_size\n",
            "      5/59     0.64G   0.09128   0.04124   0.02504         3       640: 100% 22/22 [00:06<00:00,  3.49it/s]\n",
            "               Class     Images     Labels          P          R     mAP@.5 mAP@.5:.95: 100% 4/4 [00:00<00:00,  9.05it/s]\n",
            "                 all         14         83     0.0885     0.0486     0.0204    0.00472\n",
            "\n",
            "     Epoch   gpu_mem       box       obj       cls    labels  img_size\n",
            "      6/59     0.64G   0.08621   0.04376   0.02285         6       640: 100% 22/22 [00:06<00:00,  3.53it/s]\n",
            "               Class     Images     Labels          P          R     mAP@.5 mAP@.5:.95: 100% 4/4 [00:00<00:00,  9.55it/s]\n",
            "                 all         14         83     0.0709     0.0694     0.0314    0.00764\n",
            "\n",
            "     Epoch   gpu_mem       box       obj       cls    labels  img_size\n",
            "      7/59     0.64G   0.08044   0.03789   0.02314         8       640: 100% 22/22 [00:06<00:00,  3.51it/s]\n",
            "               Class     Images     Labels          P          R     mAP@.5 mAP@.5:.95: 100% 4/4 [00:00<00:00,  9.97it/s]\n",
            "                 all         14         83     0.0939     0.0833     0.0351    0.00598\n",
            "\n",
            "     Epoch   gpu_mem       box       obj       cls    labels  img_size\n",
            "      8/59     0.64G   0.07065   0.03794   0.01981         6       640: 100% 22/22 [00:06<00:00,  3.55it/s]\n",
            "               Class     Images     Labels          P          R     mAP@.5 mAP@.5:.95: 100% 4/4 [00:00<00:00, 10.18it/s]\n",
            "                 all         14         83      0.166      0.108     0.0525     0.0114\n",
            "\n",
            "     Epoch   gpu_mem       box       obj       cls    labels  img_size\n",
            "      9/59     0.64G    0.0703   0.03259   0.01965         4       640: 100% 22/22 [00:06<00:00,  3.53it/s]\n",
            "               Class     Images     Labels          P          R     mAP@.5 mAP@.5:.95: 100% 4/4 [00:00<00:00, 10.30it/s]\n",
            "                 all         14         83      0.226      0.121      0.084     0.0178\n",
            "\n",
            "     Epoch   gpu_mem       box       obj       cls    labels  img_size\n",
            "     10/59     0.64G   0.07111    0.0365   0.02091         3       640: 100% 22/22 [00:06<00:00,  3.55it/s]\n",
            "               Class     Images     Labels          P          R     mAP@.5 mAP@.5:.95: 100% 4/4 [00:00<00:00, 10.84it/s]\n",
            "                 all         14         83       0.25      0.129     0.0962     0.0212\n",
            "\n",
            "     Epoch   gpu_mem       box       obj       cls    labels  img_size\n",
            "     11/59     0.64G    0.0673   0.03955   0.01976         2       640: 100% 22/22 [00:06<00:00,  3.53it/s]\n",
            "               Class     Images     Labels          P          R     mAP@.5 mAP@.5:.95: 100% 4/4 [00:00<00:00, 11.11it/s]\n",
            "                 all         14         83      0.322       0.15     0.0974     0.0249\n",
            "\n",
            "     Epoch   gpu_mem       box       obj       cls    labels  img_size\n",
            "     12/59     0.64G   0.07446   0.04422   0.02003         6       640: 100% 22/22 [00:06<00:00,  3.54it/s]\n",
            "               Class     Images     Labels          P          R     mAP@.5 mAP@.5:.95: 100% 4/4 [00:00<00:00, 11.13it/s]\n",
            "                 all         14         83       0.26      0.136     0.0735     0.0223\n",
            "\n",
            "     Epoch   gpu_mem       box       obj       cls    labels  img_size\n",
            "     13/59     0.64G   0.05658   0.03623   0.01751         4       640: 100% 22/22 [00:06<00:00,  3.56it/s]\n",
            "               Class     Images     Labels          P          R     mAP@.5 mAP@.5:.95: 100% 4/4 [00:00<00:00, 11.35it/s]\n",
            "                 all         14         83      0.322      0.187      0.117     0.0323\n",
            "\n",
            "     Epoch   gpu_mem       box       obj       cls    labels  img_size\n",
            "     14/59     0.64G   0.07563   0.04047   0.02096         6       640: 100% 22/22 [00:06<00:00,  3.53it/s]\n",
            "               Class     Images     Labels          P          R     mAP@.5 mAP@.5:.95: 100% 4/4 [00:00<00:00, 11.53it/s]\n",
            "                 all         14         83      0.389      0.122     0.0967     0.0239\n",
            "\n",
            "     Epoch   gpu_mem       box       obj       cls    labels  img_size\n",
            "     15/59     0.64G   0.06716   0.03516   0.01852         1       640: 100% 22/22 [00:06<00:00,  3.51it/s]\n",
            "               Class     Images     Labels          P          R     mAP@.5 mAP@.5:.95: 100% 4/4 [00:00<00:00, 11.50it/s]\n",
            "                 all         14         83      0.446      0.115     0.0952     0.0242\n",
            "\n",
            "     Epoch   gpu_mem       box       obj       cls    labels  img_size\n",
            "     16/59     0.64G   0.06367   0.04994   0.01824        10       640: 100% 22/22 [00:06<00:00,  3.52it/s]\n",
            "               Class     Images     Labels          P          R     mAP@.5 mAP@.5:.95: 100% 4/4 [00:00<00:00, 11.41it/s]\n",
            "                 all         14         83      0.342      0.195      0.133     0.0308\n",
            "\n",
            "     Epoch   gpu_mem       box       obj       cls    labels  img_size\n",
            "     17/59     0.64G   0.05625   0.03821   0.01567         3       640: 100% 22/22 [00:06<00:00,  3.55it/s]\n",
            "               Class     Images     Labels          P          R     mAP@.5 mAP@.5:.95: 100% 4/4 [00:00<00:00, 11.64it/s]\n",
            "                 all         14         83      0.269      0.188      0.109     0.0314\n",
            "\n",
            "     Epoch   gpu_mem       box       obj       cls    labels  img_size\n",
            "     18/59     0.64G   0.06583   0.04742   0.01634        52       640: 100% 22/22 [00:06<00:00,  3.55it/s]\n",
            "               Class     Images     Labels          P          R     mAP@.5 mAP@.5:.95: 100% 4/4 [00:00<00:00, 11.74it/s]\n",
            "                 all         14         83      0.222      0.297       0.17     0.0417\n",
            "\n",
            "     Epoch   gpu_mem       box       obj       cls    labels  img_size\n",
            "     19/59     0.64G   0.06504    0.0432   0.01812         4       640: 100% 22/22 [00:06<00:00,  3.52it/s]\n",
            "               Class     Images     Labels          P          R     mAP@.5 mAP@.5:.95: 100% 4/4 [00:00<00:00, 11.91it/s]\n",
            "                 all         14         83       0.29      0.282      0.172     0.0472\n",
            "\n",
            "     Epoch   gpu_mem       box       obj       cls    labels  img_size\n",
            "     20/59     0.64G   0.06194   0.04077   0.01626         7       640: 100% 22/22 [00:06<00:00,  3.53it/s]\n",
            "               Class     Images     Labels          P          R     mAP@.5 mAP@.5:.95: 100% 4/4 [00:00<00:00, 11.54it/s]\n",
            "                 all         14         83      0.311      0.253      0.153     0.0348\n",
            "\n",
            "     Epoch   gpu_mem       box       obj       cls    labels  img_size\n",
            "     21/59     0.64G   0.05832   0.03535    0.0169         9       640: 100% 22/22 [00:06<00:00,  3.53it/s]\n",
            "               Class     Images     Labels          P          R     mAP@.5 mAP@.5:.95: 100% 4/4 [00:00<00:00, 11.98it/s]\n",
            "                 all         14         83      0.266       0.31      0.162     0.0523\n",
            "\n",
            "     Epoch   gpu_mem       box       obj       cls    labels  img_size\n",
            "     22/59     0.64G   0.06528   0.04267   0.01653        11       640: 100% 22/22 [00:06<00:00,  3.49it/s]\n",
            "               Class     Images     Labels          P          R     mAP@.5 mAP@.5:.95: 100% 4/4 [00:00<00:00, 11.92it/s]\n",
            "                 all         14         83      0.448      0.328      0.211     0.0363\n",
            "\n",
            "     Epoch   gpu_mem       box       obj       cls    labels  img_size\n",
            "     23/59     0.64G   0.07018   0.03598   0.01692         7       640: 100% 22/22 [00:06<00:00,  3.51it/s]\n",
            "               Class     Images     Labels          P          R     mAP@.5 mAP@.5:.95: 100% 4/4 [00:00<00:00, 10.40it/s]\n",
            "                 all         14         83       0.34      0.307      0.215     0.0576\n",
            "\n",
            "     Epoch   gpu_mem       box       obj       cls    labels  img_size\n",
            "     24/59     0.64G   0.06633   0.03858   0.01811         9       640: 100% 22/22 [00:06<00:00,  3.52it/s]\n",
            "               Class     Images     Labels          P          R     mAP@.5 mAP@.5:.95: 100% 4/4 [00:00<00:00, 12.08it/s]\n",
            "                 all         14         83      0.513      0.227      0.187      0.042\n",
            "\n",
            "     Epoch   gpu_mem       box       obj       cls    labels  img_size\n",
            "     25/59     0.64G   0.06565   0.04745   0.01709        18       640: 100% 22/22 [00:06<00:00,  3.52it/s]\n",
            "               Class     Images     Labels          P          R     mAP@.5 mAP@.5:.95: 100% 4/4 [00:00<00:00, 11.84it/s]\n",
            "                 all         14         83       0.49      0.302      0.249     0.0542\n",
            "\n",
            "     Epoch   gpu_mem       box       obj       cls    labels  img_size\n",
            "     26/59     0.64G   0.05485   0.03757   0.01416         6       640: 100% 22/22 [00:06<00:00,  3.52it/s]\n",
            "               Class     Images     Labels          P          R     mAP@.5 mAP@.5:.95: 100% 4/4 [00:00<00:00, 11.91it/s]\n",
            "                 all         14         83      0.506      0.285      0.254     0.0588\n",
            "\n",
            "     Epoch   gpu_mem       box       obj       cls    labels  img_size\n",
            "     27/59     0.64G   0.06146   0.04142   0.01463         2       640: 100% 22/22 [00:06<00:00,  3.48it/s]\n",
            "               Class     Images     Labels          P          R     mAP@.5 mAP@.5:.95: 100% 4/4 [00:00<00:00, 12.02it/s]\n",
            "                 all         14         83      0.667      0.279      0.275     0.0892\n",
            "\n",
            "     Epoch   gpu_mem       box       obj       cls    labels  img_size\n",
            "     28/59     0.64G   0.06282    0.0348   0.01355         7       640: 100% 22/22 [00:06<00:00,  3.53it/s]\n",
            "               Class     Images     Labels          P          R     mAP@.5 mAP@.5:.95: 100% 4/4 [00:00<00:00, 12.05it/s]\n",
            "                 all         14         83      0.269      0.285      0.211     0.0481\n",
            "\n",
            "     Epoch   gpu_mem       box       obj       cls    labels  img_size\n",
            "     29/59     0.64G   0.06509   0.03907   0.01627        18       640: 100% 22/22 [00:06<00:00,  3.52it/s]\n",
            "               Class     Images     Labels          P          R     mAP@.5 mAP@.5:.95: 100% 4/4 [00:00<00:00, 12.04it/s]\n",
            "                 all         14         83      0.503      0.293      0.277     0.0584\n",
            "\n",
            "     Epoch   gpu_mem       box       obj       cls    labels  img_size\n",
            "     30/59     0.64G   0.05525   0.04045   0.01237         2       640: 100% 22/22 [00:06<00:00,  3.53it/s]\n",
            "               Class     Images     Labels          P          R     mAP@.5 mAP@.5:.95: 100% 4/4 [00:00<00:00, 11.78it/s]\n",
            "                 all         14         83      0.497      0.227       0.23     0.0993\n",
            "\n",
            "     Epoch   gpu_mem       box       obj       cls    labels  img_size\n",
            "     31/59     0.64G   0.05651   0.03011   0.01318        10       640: 100% 22/22 [00:06<00:00,  3.51it/s]\n",
            "               Class     Images     Labels          P          R     mAP@.5 mAP@.5:.95: 100% 4/4 [00:00<00:00, 12.16it/s]\n",
            "                 all         14         83      0.568      0.237      0.253     0.0595\n",
            "\n",
            "     Epoch   gpu_mem       box       obj       cls    labels  img_size\n",
            "     32/59     0.64G   0.05637   0.04192   0.01383        10       640: 100% 22/22 [00:06<00:00,  3.51it/s]\n",
            "               Class     Images     Labels          P          R     mAP@.5 mAP@.5:.95: 100% 4/4 [00:00<00:00, 12.01it/s]\n",
            "                 all         14         83      0.248      0.321      0.201     0.0937\n",
            "\n",
            "     Epoch   gpu_mem       box       obj       cls    labels  img_size\n",
            "     33/59     0.64G   0.05369   0.02803  0.009905         7       640: 100% 22/22 [00:06<00:00,  3.57it/s]\n",
            "               Class     Images     Labels          P          R     mAP@.5 mAP@.5:.95: 100% 4/4 [00:00<00:00, 12.33it/s]\n",
            "                 all         14         83      0.248      0.321      0.201     0.0937\n",
            "\n",
            "     Epoch   gpu_mem       box       obj       cls    labels  img_size\n",
            "     34/59     0.64G   0.06479   0.02506   0.01303         6       640: 100% 22/22 [00:06<00:00,  3.53it/s]\n",
            "               Class     Images     Labels          P          R     mAP@.5 mAP@.5:.95: 100% 4/4 [00:00<00:00, 11.88it/s]\n",
            "                 all         14         83      0.186      0.321      0.187     0.0799\n",
            "\n",
            "     Epoch   gpu_mem       box       obj       cls    labels  img_size\n",
            "     35/59     0.64G   0.06466    0.0292   0.01097         4       640: 100% 22/22 [00:06<00:00,  3.54it/s]\n",
            "               Class     Images     Labels          P          R     mAP@.5 mAP@.5:.95: 100% 4/4 [00:00<00:00, 11.70it/s]\n",
            "                 all         14         83      0.321      0.251      0.208      0.084\n",
            "\n",
            "     Epoch   gpu_mem       box       obj       cls    labels  img_size\n",
            "     36/59     0.64G   0.06082   0.03511   0.01248        11       640: 100% 22/22 [00:06<00:00,  3.51it/s]\n",
            "               Class     Images     Labels          P          R     mAP@.5 mAP@.5:.95: 100% 4/4 [00:00<00:00, 11.94it/s]\n",
            "                 all         14         83      0.341      0.254      0.237     0.0883\n",
            "\n",
            "     Epoch   gpu_mem       box       obj       cls    labels  img_size\n",
            "     37/59     0.64G   0.06131   0.04149   0.01253         7       640: 100% 22/22 [00:06<00:00,  3.55it/s]\n",
            "               Class     Images     Labels          P          R     mAP@.5 mAP@.5:.95: 100% 4/4 [00:00<00:00, 12.16it/s]\n",
            "                 all         14         83       0.24      0.265      0.162      0.047\n",
            "\n",
            "     Epoch   gpu_mem       box       obj       cls    labels  img_size\n",
            "     38/59     0.64G   0.05608   0.03311   0.01099        21       640: 100% 22/22 [00:06<00:00,  3.53it/s]\n",
            "               Class     Images     Labels          P          R     mAP@.5 mAP@.5:.95: 100% 4/4 [00:00<00:00, 12.30it/s]\n",
            "                 all         14         83        0.4      0.237      0.228     0.0564\n",
            "\n",
            "     Epoch   gpu_mem       box       obj       cls    labels  img_size\n",
            "     39/59     0.64G   0.05437   0.03136   0.00994         5       640: 100% 22/22 [00:06<00:00,  3.52it/s]\n",
            "               Class     Images     Labels          P          R     mAP@.5 mAP@.5:.95: 100% 4/4 [00:00<00:00, 12.33it/s]\n",
            "                 all         14         83        0.4      0.237      0.228     0.0564\n",
            "\n",
            "     Epoch   gpu_mem       box       obj       cls    labels  img_size\n",
            "     40/59     0.64G   0.05899   0.03533   0.01271         5       640: 100% 22/22 [00:06<00:00,  3.52it/s]\n",
            "               Class     Images     Labels          P          R     mAP@.5 mAP@.5:.95: 100% 4/4 [00:00<00:00, 12.01it/s]\n",
            "                 all         14         83      0.685      0.184       0.22     0.0621\n",
            "\n",
            "     Epoch   gpu_mem       box       obj       cls    labels  img_size\n",
            "     41/59     0.64G   0.05514   0.03321   0.01026         6       640: 100% 22/22 [00:06<00:00,  3.54it/s]\n",
            "               Class     Images     Labels          P          R     mAP@.5 mAP@.5:.95: 100% 4/4 [00:00<00:00, 12.47it/s]\n",
            "                 all         14         83      0.318       0.23      0.204     0.0601\n",
            "\n",
            "     Epoch   gpu_mem       box       obj       cls    labels  img_size\n",
            "     42/59     0.64G   0.05943   0.03664    0.0108        14       640: 100% 22/22 [00:06<00:00,  3.51it/s]\n",
            "               Class     Images     Labels          P          R     mAP@.5 mAP@.5:.95: 100% 4/4 [00:00<00:00, 12.34it/s]\n",
            "                 all         14         83      0.397      0.237       0.24     0.0476\n",
            "\n",
            "     Epoch   gpu_mem       box       obj       cls    labels  img_size\n",
            "     43/59     0.64G   0.05307   0.03552   0.01279        16       640: 100% 22/22 [00:06<00:00,  3.53it/s]\n",
            "               Class     Images     Labels          P          R     mAP@.5 mAP@.5:.95: 100% 4/4 [00:00<00:00, 12.28it/s]\n",
            "                 all         14         83      0.397      0.237       0.24     0.0476\n",
            "\n",
            "     Epoch   gpu_mem       box       obj       cls    labels  img_size\n",
            "     44/59     0.64G   0.04582   0.03033  0.009585        15       640: 100% 22/22 [00:06<00:00,  3.55it/s]\n",
            "               Class     Images     Labels          P          R     mAP@.5 mAP@.5:.95: 100% 4/4 [00:00<00:00, 12.43it/s]\n",
            "                 all         14         83      0.598       0.21      0.239     0.0713\n",
            "\n",
            "     Epoch   gpu_mem       box       obj       cls    labels  img_size\n",
            "     45/59     0.64G   0.05355   0.03383  0.009577        25       640: 100% 22/22 [00:06<00:00,  3.53it/s]\n",
            "               Class     Images     Labels          P          R     mAP@.5 mAP@.5:.95: 100% 4/4 [00:00<00:00, 12.34it/s]\n",
            "                 all         14         83      0.793      0.159      0.263     0.0503\n",
            "\n",
            "     Epoch   gpu_mem       box       obj       cls    labels  img_size\n",
            "     46/59     0.64G   0.05222   0.04382   0.01043        14       640: 100% 22/22 [00:06<00:00,  3.55it/s]\n",
            "               Class     Images     Labels          P          R     mAP@.5 mAP@.5:.95: 100% 4/4 [00:00<00:00, 12.56it/s]\n",
            "                 all         14         83      0.793      0.159      0.263     0.0503\n",
            "\n",
            "     Epoch   gpu_mem       box       obj       cls    labels  img_size\n",
            "     47/59     0.64G    0.0519   0.04132  0.009628         3       640: 100% 22/22 [00:06<00:00,  3.54it/s]\n",
            "               Class     Images     Labels          P          R     mAP@.5 mAP@.5:.95: 100% 4/4 [00:00<00:00, 12.42it/s]\n",
            "                 all         14         83      0.396      0.254      0.265     0.0566\n",
            "\n",
            "     Epoch   gpu_mem       box       obj       cls    labels  img_size\n",
            "     48/59     0.64G   0.05154   0.04584  0.009245         6       640: 100% 22/22 [00:06<00:00,  3.52it/s]\n",
            "               Class     Images     Labels          P          R     mAP@.5 mAP@.5:.95: 100% 4/4 [00:00<00:00, 12.58it/s]\n",
            "                 all         14         83       0.59      0.217      0.234     0.0828\n",
            "\n",
            "     Epoch   gpu_mem       box       obj       cls    labels  img_size\n",
            "     49/59     0.64G    0.0507   0.03675  0.009247        21       640: 100% 22/22 [00:06<00:00,  3.37it/s]\n",
            "               Class     Images     Labels          P          R     mAP@.5 mAP@.5:.95: 100% 4/4 [00:00<00:00, 12.65it/s]\n",
            "                 all         14         83      0.723       0.21      0.298     0.0885\n",
            "\n",
            "     Epoch   gpu_mem       box       obj       cls    labels  img_size\n",
            "     50/59     0.64G   0.04122   0.02599  0.008159         3       640: 100% 22/22 [00:06<00:00,  3.55it/s]\n",
            "               Class     Images     Labels          P          R     mAP@.5 mAP@.5:.95: 100% 4/4 [00:00<00:00, 12.34it/s]\n",
            "                 all         14         83      0.723       0.21      0.298     0.0885\n",
            "\n",
            "     Epoch   gpu_mem       box       obj       cls    labels  img_size\n",
            "     51/59     0.64G   0.04871    0.0344   0.01116         3       640: 100% 22/22 [00:06<00:00,  3.39it/s]\n",
            "               Class     Images     Labels          P          R     mAP@.5 mAP@.5:.95: 100% 4/4 [00:00<00:00, 12.26it/s]\n",
            "                 all         14         83      0.337      0.315      0.296     0.0683\n",
            "\n",
            "     Epoch   gpu_mem       box       obj       cls    labels  img_size\n",
            "     52/59     0.64G   0.05049   0.03296  0.009764         6       640: 100% 22/22 [00:06<00:00,  3.51it/s]\n",
            "               Class     Images     Labels          P          R     mAP@.5 mAP@.5:.95: 100% 4/4 [00:00<00:00, 12.55it/s]\n",
            "                 all         14         83      0.295      0.346      0.283      0.109\n",
            "\n",
            "     Epoch   gpu_mem       box       obj       cls    labels  img_size\n",
            "     53/59     0.64G   0.04731   0.04021  0.009482         0       640: 100% 22/22 [00:06<00:00,  3.56it/s]\n",
            "               Class     Images     Labels          P          R     mAP@.5 mAP@.5:.95: 100% 4/4 [00:00<00:00, 12.57it/s]\n",
            "                 all         14         83      0.295      0.346      0.283      0.109\n",
            "\n",
            "     Epoch   gpu_mem       box       obj       cls    labels  img_size\n",
            "     54/59     0.64G   0.04878    0.0311   0.01003         5       640: 100% 22/22 [00:06<00:00,  3.53it/s]\n",
            "               Class     Images     Labels          P          R     mAP@.5 mAP@.5:.95: 100% 4/4 [00:00<00:00, 12.31it/s]\n",
            "                 all         14         83       0.66      0.203      0.276      0.108\n",
            "\n",
            "     Epoch   gpu_mem       box       obj       cls    labels  img_size\n",
            "     55/59     0.64G   0.05177   0.03551   0.01242        24       640: 100% 22/22 [00:06<00:00,  3.51it/s]\n",
            "               Class     Images     Labels          P          R     mAP@.5 mAP@.5:.95: 100% 4/4 [00:00<00:00, 12.17it/s]\n",
            "                 all         14         83      0.438      0.272      0.304     0.0733\n",
            "\n",
            "     Epoch   gpu_mem       box       obj       cls    labels  img_size\n",
            "     56/59     0.64G    0.0497   0.03563  0.009257         4       640: 100% 22/22 [00:06<00:00,  3.49it/s]\n",
            "               Class     Images     Labels          P          R     mAP@.5 mAP@.5:.95: 100% 4/4 [00:00<00:00, 12.31it/s]\n",
            "                 all         14         83      0.438      0.272      0.304     0.0733\n",
            "\n",
            "     Epoch   gpu_mem       box       obj       cls    labels  img_size\n",
            "     57/59     0.64G   0.05538   0.03312  0.009377         6       640: 100% 22/22 [00:06<00:00,  3.52it/s]\n",
            "               Class     Images     Labels          P          R     mAP@.5 mAP@.5:.95: 100% 4/4 [00:00<00:00, 12.09it/s]\n",
            "                 all         14         83      0.465      0.286      0.275     0.0756\n",
            "\n",
            "     Epoch   gpu_mem       box       obj       cls    labels  img_size\n",
            "     58/59     0.64G   0.04319    0.0336  0.008932        15       640: 100% 22/22 [00:06<00:00,  3.54it/s]\n",
            "               Class     Images     Labels          P          R     mAP@.5 mAP@.5:.95: 100% 4/4 [00:00<00:00, 12.29it/s]\n",
            "                 all         14         83      0.562      0.293      0.321     0.0937\n",
            "\n",
            "     Epoch   gpu_mem       box       obj       cls    labels  img_size\n",
            "     59/59     0.64G   0.05114   0.04102   0.01095        10       640: 100% 22/22 [00:06<00:00,  3.53it/s]\n",
            "               Class     Images     Labels          P          R     mAP@.5 mAP@.5:.95: 100% 4/4 [00:00<00:00, 12.12it/s]\n",
            "                 all         14         83      0.562      0.293      0.321     0.0937\n",
            "\n",
            "60 epochs completed in 0.120 hours.\n",
            "Optimizer stripped from runs/train/exp/weights/last.pt, 14.4MB\n",
            "Optimizer stripped from runs/train/exp/weights/best.pt, 14.4MB\n",
            "\n",
            "Validating runs/train/exp/weights/best.pt...\n",
            "Fusing layers... \n",
            "Model Summary: 213 layers, 7015519 parameters, 0 gradients, 15.8 GFLOPs\n",
            "               Class     Images     Labels          P          R     mAP@.5 mAP@.5:.95: 100% 4/4 [00:00<00:00,  4.69it/s]\n",
            "                 all         14         83      0.296      0.347      0.282      0.109\n",
            "           cockroach         14         72      0.398      0.239      0.234     0.0581\n",
            "       cockroach egg         14         11      0.193      0.455      0.331      0.159\n",
            "Results saved to \u001b[1mruns/train/exp\u001b[0m\n"
          ]
        }
      ]
    },
    {
      "cell_type": "markdown",
      "metadata": {
        "id": "4JnkELT0cIJg"
      },
      "source": [
        "# Validation\n",
        "\n"
      ]
    },
    {
      "cell_type": "code",
      "metadata": {
        "id": "zR9ZbuQCH7FX"
      },
      "source": [
        "\n",
        "\n",
        "!python detect.py --weights /content/yolov5/runs/train/exp/weights/last.pt -- --conf 0.35 --source /content/imtest3.jpg\n",
        "\n"
      ],
      "execution_count": null,
      "outputs": []
    },
    {
      "cell_type": "code",
      "source": [
        "!pip install gradio"
      ],
      "metadata": {
        "colab": {
          "base_uri": "https://localhost:8080/"
        },
        "id": "Tm_YLOdeJKQA",
        "outputId": "499f4add-0d74-41f0-dcc2-4e524f0a6eb1"
      },
      "execution_count": null,
      "outputs": [
        {
          "output_type": "stream",
          "name": "stdout",
          "text": [
            "Collecting gradio\n",
            "  Downloading gradio-2.7.5.2-py3-none-any.whl (871 kB)\n",
            "\u001b[?25l\r\u001b[K     |▍                               | 10 kB 17.8 MB/s eta 0:00:01\r\u001b[K     |▊                               | 20 kB 8.8 MB/s eta 0:00:01\r\u001b[K     |█▏                              | 30 kB 7.3 MB/s eta 0:00:01\r\u001b[K     |█▌                              | 40 kB 6.9 MB/s eta 0:00:01\r\u001b[K     |█▉                              | 51 kB 3.8 MB/s eta 0:00:01\r\u001b[K     |██▎                             | 61 kB 4.0 MB/s eta 0:00:01\r\u001b[K     |██▋                             | 71 kB 4.0 MB/s eta 0:00:01\r\u001b[K     |███                             | 81 kB 4.5 MB/s eta 0:00:01\r\u001b[K     |███▍                            | 92 kB 3.8 MB/s eta 0:00:01\r\u001b[K     |███▊                            | 102 kB 3.9 MB/s eta 0:00:01\r\u001b[K     |████▏                           | 112 kB 3.9 MB/s eta 0:00:01\r\u001b[K     |████▌                           | 122 kB 3.9 MB/s eta 0:00:01\r\u001b[K     |████▉                           | 133 kB 3.9 MB/s eta 0:00:01\r\u001b[K     |█████▎                          | 143 kB 3.9 MB/s eta 0:00:01\r\u001b[K     |█████▋                          | 153 kB 3.9 MB/s eta 0:00:01\r\u001b[K     |██████                          | 163 kB 3.9 MB/s eta 0:00:01\r\u001b[K     |██████▍                         | 174 kB 3.9 MB/s eta 0:00:01\r\u001b[K     |██████▊                         | 184 kB 3.9 MB/s eta 0:00:01\r\u001b[K     |███████▏                        | 194 kB 3.9 MB/s eta 0:00:01\r\u001b[K     |███████▌                        | 204 kB 3.9 MB/s eta 0:00:01\r\u001b[K     |████████                        | 215 kB 3.9 MB/s eta 0:00:01\r\u001b[K     |████████▎                       | 225 kB 3.9 MB/s eta 0:00:01\r\u001b[K     |████████▋                       | 235 kB 3.9 MB/s eta 0:00:01\r\u001b[K     |█████████                       | 245 kB 3.9 MB/s eta 0:00:01\r\u001b[K     |█████████▍                      | 256 kB 3.9 MB/s eta 0:00:01\r\u001b[K     |█████████▊                      | 266 kB 3.9 MB/s eta 0:00:01\r\u001b[K     |██████████▏                     | 276 kB 3.9 MB/s eta 0:00:01\r\u001b[K     |██████████▌                     | 286 kB 3.9 MB/s eta 0:00:01\r\u001b[K     |███████████                     | 296 kB 3.9 MB/s eta 0:00:01\r\u001b[K     |███████████▎                    | 307 kB 3.9 MB/s eta 0:00:01\r\u001b[K     |███████████▋                    | 317 kB 3.9 MB/s eta 0:00:01\r\u001b[K     |████████████                    | 327 kB 3.9 MB/s eta 0:00:01\r\u001b[K     |████████████▍                   | 337 kB 3.9 MB/s eta 0:00:01\r\u001b[K     |████████████▊                   | 348 kB 3.9 MB/s eta 0:00:01\r\u001b[K     |█████████████▏                  | 358 kB 3.9 MB/s eta 0:00:01\r\u001b[K     |█████████████▌                  | 368 kB 3.9 MB/s eta 0:00:01\r\u001b[K     |██████████████                  | 378 kB 3.9 MB/s eta 0:00:01\r\u001b[K     |██████████████▎                 | 389 kB 3.9 MB/s eta 0:00:01\r\u001b[K     |██████████████▋                 | 399 kB 3.9 MB/s eta 0:00:01\r\u001b[K     |███████████████                 | 409 kB 3.9 MB/s eta 0:00:01\r\u001b[K     |███████████████▍                | 419 kB 3.9 MB/s eta 0:00:01\r\u001b[K     |███████████████▉                | 430 kB 3.9 MB/s eta 0:00:01\r\u001b[K     |████████████████▏               | 440 kB 3.9 MB/s eta 0:00:01\r\u001b[K     |████████████████▌               | 450 kB 3.9 MB/s eta 0:00:01\r\u001b[K     |█████████████████               | 460 kB 3.9 MB/s eta 0:00:01\r\u001b[K     |█████████████████▎              | 471 kB 3.9 MB/s eta 0:00:01\r\u001b[K     |█████████████████▋              | 481 kB 3.9 MB/s eta 0:00:01\r\u001b[K     |██████████████████              | 491 kB 3.9 MB/s eta 0:00:01\r\u001b[K     |██████████████████▍             | 501 kB 3.9 MB/s eta 0:00:01\r\u001b[K     |██████████████████▉             | 512 kB 3.9 MB/s eta 0:00:01\r\u001b[K     |███████████████████▏            | 522 kB 3.9 MB/s eta 0:00:01\r\u001b[K     |███████████████████▌            | 532 kB 3.9 MB/s eta 0:00:01\r\u001b[K     |████████████████████            | 542 kB 3.9 MB/s eta 0:00:01\r\u001b[K     |████████████████████▎           | 552 kB 3.9 MB/s eta 0:00:01\r\u001b[K     |████████████████████▊           | 563 kB 3.9 MB/s eta 0:00:01\r\u001b[K     |█████████████████████           | 573 kB 3.9 MB/s eta 0:00:01\r\u001b[K     |█████████████████████▍          | 583 kB 3.9 MB/s eta 0:00:01\r\u001b[K     |█████████████████████▉          | 593 kB 3.9 MB/s eta 0:00:01\r\u001b[K     |██████████████████████▏         | 604 kB 3.9 MB/s eta 0:00:01\r\u001b[K     |██████████████████████▌         | 614 kB 3.9 MB/s eta 0:00:01\r\u001b[K     |███████████████████████         | 624 kB 3.9 MB/s eta 0:00:01\r\u001b[K     |███████████████████████▎        | 634 kB 3.9 MB/s eta 0:00:01\r\u001b[K     |███████████████████████▊        | 645 kB 3.9 MB/s eta 0:00:01\r\u001b[K     |████████████████████████        | 655 kB 3.9 MB/s eta 0:00:01\r\u001b[K     |████████████████████████▍       | 665 kB 3.9 MB/s eta 0:00:01\r\u001b[K     |████████████████████████▉       | 675 kB 3.9 MB/s eta 0:00:01\r\u001b[K     |█████████████████████████▏      | 686 kB 3.9 MB/s eta 0:00:01\r\u001b[K     |█████████████████████████▌      | 696 kB 3.9 MB/s eta 0:00:01\r\u001b[K     |██████████████████████████      | 706 kB 3.9 MB/s eta 0:00:01\r\u001b[K     |██████████████████████████▎     | 716 kB 3.9 MB/s eta 0:00:01\r\u001b[K     |██████████████████████████▊     | 727 kB 3.9 MB/s eta 0:00:01\r\u001b[K     |███████████████████████████     | 737 kB 3.9 MB/s eta 0:00:01\r\u001b[K     |███████████████████████████▍    | 747 kB 3.9 MB/s eta 0:00:01\r\u001b[K     |███████████████████████████▉    | 757 kB 3.9 MB/s eta 0:00:01\r\u001b[K     |████████████████████████████▏   | 768 kB 3.9 MB/s eta 0:00:01\r\u001b[K     |████████████████████████████▋   | 778 kB 3.9 MB/s eta 0:00:01\r\u001b[K     |█████████████████████████████   | 788 kB 3.9 MB/s eta 0:00:01\r\u001b[K     |█████████████████████████████▎  | 798 kB 3.9 MB/s eta 0:00:01\r\u001b[K     |█████████████████████████████▊  | 808 kB 3.9 MB/s eta 0:00:01\r\u001b[K     |██████████████████████████████  | 819 kB 3.9 MB/s eta 0:00:01\r\u001b[K     |██████████████████████████████▍ | 829 kB 3.9 MB/s eta 0:00:01\r\u001b[K     |██████████████████████████████▉ | 839 kB 3.9 MB/s eta 0:00:01\r\u001b[K     |███████████████████████████████▏| 849 kB 3.9 MB/s eta 0:00:01\r\u001b[K     |███████████████████████████████▋| 860 kB 3.9 MB/s eta 0:00:01\r\u001b[K     |████████████████████████████████| 870 kB 3.9 MB/s eta 0:00:01\r\u001b[K     |████████████████████████████████| 871 kB 3.9 MB/s \n",
            "\u001b[?25hCollecting ffmpy\n",
            "  Downloading ffmpy-0.3.0.tar.gz (4.8 kB)\n",
            "Collecting markdown2\n",
            "  Downloading markdown2-2.4.2-py2.py3-none-any.whl (34 kB)\n",
            "Collecting analytics-python\n",
            "  Downloading analytics_python-1.4.0-py2.py3-none-any.whl (15 kB)\n",
            "Requirement already satisfied: pillow in /usr/local/lib/python3.7/dist-packages (from gradio) (7.1.2)\n",
            "Collecting pycryptodome\n",
            "  Downloading pycryptodome-3.14.1-cp35-abi3-manylinux2010_x86_64.whl (2.0 MB)\n",
            "\u001b[K     |████████████████████████████████| 2.0 MB 40.7 MB/s \n",
            "\u001b[?25hCollecting pydub\n",
            "  Downloading pydub-0.25.1-py2.py3-none-any.whl (32 kB)\n",
            "Requirement already satisfied: matplotlib in /usr/local/lib/python3.7/dist-packages (from gradio) (3.2.2)\n",
            "Requirement already satisfied: pandas in /usr/local/lib/python3.7/dist-packages (from gradio) (1.3.5)\n",
            "Collecting paramiko\n",
            "  Downloading paramiko-2.9.2-py2.py3-none-any.whl (210 kB)\n",
            "\u001b[K     |████████████████████████████████| 210 kB 23.1 MB/s \n",
            "\u001b[?25hCollecting fastapi\n",
            "  Downloading fastapi-0.73.0-py3-none-any.whl (52 kB)\n",
            "\u001b[K     |████████████████████████████████| 52 kB 901 kB/s \n",
            "\u001b[?25hCollecting python-multipart\n",
            "  Downloading python-multipart-0.0.5.tar.gz (32 kB)\n",
            "Requirement already satisfied: numpy in /usr/local/lib/python3.7/dist-packages (from gradio) (1.19.5)\n",
            "Requirement already satisfied: requests in /usr/local/lib/python3.7/dist-packages (from gradio) (2.23.0)\n",
            "Collecting aiohttp\n",
            "  Downloading aiohttp-3.8.1-cp37-cp37m-manylinux_2_5_x86_64.manylinux1_x86_64.manylinux_2_12_x86_64.manylinux2010_x86_64.whl (1.1 MB)\n",
            "\u001b[K     |████████████████████████████████| 1.1 MB 39.5 MB/s \n",
            "\u001b[?25hCollecting uvicorn\n",
            "  Downloading uvicorn-0.17.4-py3-none-any.whl (52 kB)\n",
            "\u001b[K     |████████████████████████████████| 52 kB 1.4 MB/s \n",
            "\u001b[?25hCollecting aiosignal>=1.1.2\n",
            "  Downloading aiosignal-1.2.0-py3-none-any.whl (8.2 kB)\n",
            "Collecting async-timeout<5.0,>=4.0.0a3\n",
            "  Downloading async_timeout-4.0.2-py3-none-any.whl (5.8 kB)\n",
            "Requirement already satisfied: charset-normalizer<3.0,>=2.0 in /usr/local/lib/python3.7/dist-packages (from aiohttp->gradio) (2.0.11)\n",
            "Collecting multidict<7.0,>=4.5\n",
            "  Downloading multidict-6.0.2-cp37-cp37m-manylinux_2_17_x86_64.manylinux2014_x86_64.whl (94 kB)\n",
            "\u001b[K     |████████████████████████████████| 94 kB 3.6 MB/s \n",
            "\u001b[?25hRequirement already satisfied: attrs>=17.3.0 in /usr/local/lib/python3.7/dist-packages (from aiohttp->gradio) (21.4.0)\n",
            "Requirement already satisfied: typing-extensions>=3.7.4 in /usr/local/lib/python3.7/dist-packages (from aiohttp->gradio) (3.10.0.2)\n",
            "Collecting asynctest==0.13.0\n",
            "  Downloading asynctest-0.13.0-py3-none-any.whl (26 kB)\n",
            "Collecting frozenlist>=1.1.1\n",
            "  Downloading frozenlist-1.3.0-cp37-cp37m-manylinux_2_5_x86_64.manylinux1_x86_64.manylinux_2_17_x86_64.manylinux2014_x86_64.whl (144 kB)\n",
            "\u001b[K     |████████████████████████████████| 144 kB 49.4 MB/s \n",
            "\u001b[?25hCollecting yarl<2.0,>=1.0\n",
            "  Downloading yarl-1.7.2-cp37-cp37m-manylinux_2_5_x86_64.manylinux1_x86_64.manylinux_2_12_x86_64.manylinux2010_x86_64.whl (271 kB)\n",
            "\u001b[K     |████████████████████████████████| 271 kB 41.4 MB/s \n",
            "\u001b[?25hRequirement already satisfied: idna>=2.0 in /usr/local/lib/python3.7/dist-packages (from yarl<2.0,>=1.0->aiohttp->gradio) (2.10)\n",
            "Requirement already satisfied: python-dateutil>2.1 in /usr/local/lib/python3.7/dist-packages (from analytics-python->gradio) (2.8.2)\n",
            "Requirement already satisfied: six>=1.5 in /usr/local/lib/python3.7/dist-packages (from analytics-python->gradio) (1.15.0)\n",
            "Collecting backoff==1.10.0\n",
            "  Downloading backoff-1.10.0-py2.py3-none-any.whl (31 kB)\n",
            "Collecting monotonic>=1.5\n",
            "  Downloading monotonic-1.6-py2.py3-none-any.whl (8.2 kB)\n",
            "Requirement already satisfied: certifi>=2017.4.17 in /usr/local/lib/python3.7/dist-packages (from requests->gradio) (2021.10.8)\n",
            "Requirement already satisfied: chardet<4,>=3.0.2 in /usr/local/lib/python3.7/dist-packages (from requests->gradio) (3.0.4)\n",
            "Requirement already satisfied: urllib3!=1.25.0,!=1.25.1,<1.26,>=1.21.1 in /usr/local/lib/python3.7/dist-packages (from requests->gradio) (1.24.3)\n",
            "Collecting pydantic!=1.7,!=1.7.1,!=1.7.2,!=1.7.3,!=1.8,!=1.8.1,<2.0.0,>=1.6.2\n",
            "  Downloading pydantic-1.9.0-cp37-cp37m-manylinux_2_17_x86_64.manylinux2014_x86_64.whl (10.9 MB)\n",
            "\u001b[K     |████████████████████████████████| 10.9 MB 24.0 MB/s \n",
            "\u001b[?25hCollecting starlette==0.17.1\n",
            "  Downloading starlette-0.17.1-py3-none-any.whl (58 kB)\n",
            "\u001b[K     |████████████████████████████████| 58 kB 5.7 MB/s \n",
            "\u001b[?25hCollecting anyio<4,>=3.0.0\n",
            "  Downloading anyio-3.5.0-py3-none-any.whl (79 kB)\n",
            "\u001b[K     |████████████████████████████████| 79 kB 8.0 MB/s \n",
            "\u001b[?25hCollecting sniffio>=1.1\n",
            "  Downloading sniffio-1.2.0-py3-none-any.whl (10 kB)\n",
            "Requirement already satisfied: cycler>=0.10 in /usr/local/lib/python3.7/dist-packages (from matplotlib->gradio) (0.11.0)\n",
            "Requirement already satisfied: kiwisolver>=1.0.1 in /usr/local/lib/python3.7/dist-packages (from matplotlib->gradio) (1.3.2)\n",
            "Requirement already satisfied: pyparsing!=2.0.4,!=2.1.2,!=2.1.6,>=2.0.1 in /usr/local/lib/python3.7/dist-packages (from matplotlib->gradio) (3.0.7)\n",
            "Requirement already satisfied: pytz>=2017.3 in /usr/local/lib/python3.7/dist-packages (from pandas->gradio) (2018.9)\n",
            "Collecting pynacl>=1.0.1\n",
            "  Downloading PyNaCl-1.5.0-cp36-abi3-manylinux_2_17_x86_64.manylinux2014_x86_64.manylinux_2_24_x86_64.whl (856 kB)\n",
            "\u001b[K     |████████████████████████████████| 856 kB 47.9 MB/s \n",
            "\u001b[?25hCollecting bcrypt>=3.1.3\n",
            "  Downloading bcrypt-3.2.0-cp36-abi3-manylinux_2_17_x86_64.manylinux2014_x86_64.manylinux_2_24_x86_64.whl (61 kB)\n",
            "\u001b[K     |████████████████████████████████| 61 kB 477 kB/s \n",
            "\u001b[?25hCollecting cryptography>=2.5\n",
            "  Downloading cryptography-36.0.1-cp36-abi3-manylinux_2_24_x86_64.whl (3.6 MB)\n",
            "\u001b[K     |████████████████████████████████| 3.6 MB 38.8 MB/s \n",
            "\u001b[?25hRequirement already satisfied: cffi>=1.1 in /usr/local/lib/python3.7/dist-packages (from bcrypt>=3.1.3->paramiko->gradio) (1.15.0)\n",
            "Requirement already satisfied: pycparser in /usr/local/lib/python3.7/dist-packages (from cffi>=1.1->bcrypt>=3.1.3->paramiko->gradio) (2.21)\n",
            "Requirement already satisfied: click>=7.0 in /usr/local/lib/python3.7/dist-packages (from uvicorn->gradio) (7.1.2)\n",
            "Collecting asgiref>=3.4.0\n",
            "  Downloading asgiref-3.5.0-py3-none-any.whl (22 kB)\n",
            "Collecting h11>=0.8\n",
            "  Downloading h11-0.13.0-py3-none-any.whl (58 kB)\n",
            "\u001b[K     |████████████████████████████████| 58 kB 6.2 MB/s \n",
            "\u001b[?25hBuilding wheels for collected packages: ffmpy, python-multipart\n",
            "  Building wheel for ffmpy (setup.py) ... \u001b[?25l\u001b[?25hdone\n",
            "  Created wheel for ffmpy: filename=ffmpy-0.3.0-py3-none-any.whl size=4712 sha256=00af341aeb41bb0ff994e1035bb72b0656fa0d5ddbb1a6be0524b892ee093f00\n",
            "  Stored in directory: /root/.cache/pip/wheels/13/e4/6c/e8059816e86796a597c6e6b0d4c880630f51a1fcfa0befd5e6\n",
            "  Building wheel for python-multipart (setup.py) ... \u001b[?25l\u001b[?25hdone\n",
            "  Created wheel for python-multipart: filename=python_multipart-0.0.5-py3-none-any.whl size=31678 sha256=fee3302fd2e92a0a22e80121686c8cfc699fbffa39b170fcd14eb2f66815f936\n",
            "  Stored in directory: /root/.cache/pip/wheels/2c/41/7c/bfd1c180534ffdcc0972f78c5758f89881602175d48a8bcd2c\n",
            "Successfully built ffmpy python-multipart\n",
            "Installing collected packages: sniffio, multidict, frozenlist, anyio, yarl, starlette, pynacl, pydantic, monotonic, h11, cryptography, bcrypt, backoff, asynctest, async-timeout, asgiref, aiosignal, uvicorn, python-multipart, pydub, pycryptodome, paramiko, markdown2, ffmpy, fastapi, analytics-python, aiohttp, gradio\n",
            "Successfully installed aiohttp-3.8.1 aiosignal-1.2.0 analytics-python-1.4.0 anyio-3.5.0 asgiref-3.5.0 async-timeout-4.0.2 asynctest-0.13.0 backoff-1.10.0 bcrypt-3.2.0 cryptography-36.0.1 fastapi-0.73.0 ffmpy-0.3.0 frozenlist-1.3.0 gradio-2.7.5.2 h11-0.13.0 markdown2-2.4.2 monotonic-1.6 multidict-6.0.2 paramiko-2.9.2 pycryptodome-3.14.1 pydantic-1.9.0 pydub-0.25.1 pynacl-1.5.0 python-multipart-0.0.5 sniffio-1.2.0 starlette-0.17.1 uvicorn-0.17.4 yarl-1.7.2\n"
          ]
        }
      ]
    },
    {
      "cell_type": "code",
      "source": [
        "import numpy as np\n",
        "\n",
        "import gradio as gr\n",
        "\n",
        "\n",
        "def sepia(input_img):\n",
        "    sepia_filter = np.array(\n",
        "        [[0.393, 0.769, 0.189], [0.349, 0.686, 0.168], [0.272, 0.534, 0.131]]\n",
        "    )\n",
        "    sepia_img = input_img.dot(sepia_filter.T)\n",
        "    sepia_img /= sepia_img.max()\n",
        "    return sepia_img\n",
        "\n",
        "\n",
        "iface = gr.Interface(sepia, gr.inputs.Image(shape=(200, 200)), \"image\")\n",
        "\n",
        "iface.launch()"
      ],
      "metadata": {
        "id": "9De3TJj5Ge8v"
      },
      "execution_count": null,
      "outputs": []
    },
    {
      "cell_type": "code",
      "source": [
        "import subprocess\n",
        "# cmd_run = '!python detect.py --weights /content/yolov5/runs/train/exp/weights/last.pt --source /content/imtest3.jpg'\n",
        "# subprocess.run(['python', 'detect.py'], input = 'weights /content/yolov5/runs/train/exp/weights/last.pt', capture_output=True).stdout"
      ],
      "metadata": {
        "id": "K7xzwCSaJqNV"
      },
      "execution_count": null,
      "outputs": []
    }
  ]
}